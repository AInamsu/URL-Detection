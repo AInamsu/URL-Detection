{
 "cells": [
  {
   "cell_type": "code",
   "execution_count": 1,
   "id": "cdf0e584",
   "metadata": {},
   "outputs": [],
   "source": [
    "import numpy as np\n",
    "import pandas as pd\n",
    "import matplotlib.pyplot as plt\n",
    "import seaborn as sns\n",
    "import re"
   ]
  },
  {
   "cell_type": "code",
   "execution_count": 2,
   "id": "f40e3540",
   "metadata": {},
   "outputs": [],
   "source": [
    "data1 = pd.read_csv(\"./url_data/KISA_phising_site.csv\")\n",
    "data2 = pd.read_csv(\"./url_data/KISA_spam_url.csv\")\n",
    "data3 = pd.read_csv(\"./url_data/malicious_phish.csv\")\n",
    "data4 = pd.read_csv(\"./url_data/phishing_site_urls.csv\")\n",
    "data5 = pd.read_csv(\"./url_data/Phishing_URL_Dataset.csv\")\n",
    "data6 = pd.read_csv(\"./url_data/top_1m.csv\")\n",
    "data7 = pd.read_csv(\"./url_data/URL_Classification.csv\")\n",
    "data8 = pd.read_csv(\"./url_data/url_dataset.csv\")\n",
    "data9 = pd.read_csv(\"./url_data/verified_online.csv\")"
   ]
  },
  {
   "cell_type": "code",
   "execution_count": 5,
   "id": "15d99c1a",
   "metadata": {},
   "outputs": [],
   "source": [
    "data1 = data1.dropna()\n",
    "data2 = data2.dropna()\n",
    "data3 = data3.dropna()\n",
    "data4 = data4.dropna()\n",
    "data5 = data5.dropna()\n",
    "data6 = data6.dropna()\n",
    "data7 = data7.dropna()\n",
    "data8 = data8.dropna()\n",
    "data9 = data9.dropna()\n"
   ]
  },
  {
   "cell_type": "code",
   "execution_count": 6,
   "id": "681661b6",
   "metadata": {},
   "outputs": [],
   "source": [
    "data1 = data1.rename(columns={\"홈페이지주소\":\"url\"})"
   ]
  },
  {
   "cell_type": "code",
   "execution_count": 7,
   "id": "a0441fc6",
   "metadata": {},
   "outputs": [
    {
     "data": {
      "application/vnd.microsoft.datawrangler.viewer.v0+json": {
       "columns": [
        {
         "name": "index",
         "rawType": "int64",
         "type": "integer"
        },
        {
         "name": "날짜",
         "rawType": "object",
         "type": "string"
        },
        {
         "name": "url",
         "rawType": "object",
         "type": "string"
        }
       ],
       "conversionMethod": "pd.DataFrame",
       "ref": "922c2a0a-87f3-4026-b959-96e6d9e61c18",
       "rows": [
        [
         "0",
         "2023-01-01",
         "https://nuly.do/6FVa"
        ],
        [
         "1",
         "2023-01-01",
         "http://yufsv3.zoeu.uno"
        ],
        [
         "2",
         "2023-01-01",
         "http://han.gl/RVeMq"
        ],
        [
         "3",
         "2023-01-01",
         "https://han.gl/pxkQl"
        ],
        [
         "4",
         "2023-01-02",
         "https://c11.kr/195x9"
        ]
       ],
       "shape": {
        "columns": 2,
        "rows": 5
       }
      },
      "text/html": [
       "<div>\n",
       "<style scoped>\n",
       "    .dataframe tbody tr th:only-of-type {\n",
       "        vertical-align: middle;\n",
       "    }\n",
       "\n",
       "    .dataframe tbody tr th {\n",
       "        vertical-align: top;\n",
       "    }\n",
       "\n",
       "    .dataframe thead th {\n",
       "        text-align: right;\n",
       "    }\n",
       "</style>\n",
       "<table border=\"1\" class=\"dataframe\">\n",
       "  <thead>\n",
       "    <tr style=\"text-align: right;\">\n",
       "      <th></th>\n",
       "      <th>날짜</th>\n",
       "      <th>url</th>\n",
       "    </tr>\n",
       "  </thead>\n",
       "  <tbody>\n",
       "    <tr>\n",
       "      <th>0</th>\n",
       "      <td>2023-01-01</td>\n",
       "      <td>https://nuly.do/6FVa</td>\n",
       "    </tr>\n",
       "    <tr>\n",
       "      <th>1</th>\n",
       "      <td>2023-01-01</td>\n",
       "      <td>http://yufsv3.zoeu.uno</td>\n",
       "    </tr>\n",
       "    <tr>\n",
       "      <th>2</th>\n",
       "      <td>2023-01-01</td>\n",
       "      <td>http://han.gl/RVeMq</td>\n",
       "    </tr>\n",
       "    <tr>\n",
       "      <th>3</th>\n",
       "      <td>2023-01-01</td>\n",
       "      <td>https://han.gl/pxkQl</td>\n",
       "    </tr>\n",
       "    <tr>\n",
       "      <th>4</th>\n",
       "      <td>2023-01-02</td>\n",
       "      <td>https://c11.kr/195x9</td>\n",
       "    </tr>\n",
       "  </tbody>\n",
       "</table>\n",
       "</div>"
      ],
      "text/plain": [
       "           날짜                     url\n",
       "0  2023-01-01    https://nuly.do/6FVa\n",
       "1  2023-01-01  http://yufsv3.zoeu.uno\n",
       "2  2023-01-01     http://han.gl/RVeMq\n",
       "3  2023-01-01    https://han.gl/pxkQl\n",
       "4  2023-01-02    https://c11.kr/195x9"
      ]
     },
     "execution_count": 7,
     "metadata": {},
     "output_type": "execute_result"
    }
   ],
   "source": [
    "data1.head()"
   ]
  },
  {
   "cell_type": "code",
   "execution_count": 8,
   "id": "ca61dc23",
   "metadata": {},
   "outputs": [],
   "source": [
    "data2 = data2.rename(columns = {'URL주소':'url'})"
   ]
  },
  {
   "cell_type": "code",
   "execution_count": 9,
   "id": "03288df7",
   "metadata": {},
   "outputs": [
    {
     "data": {
      "application/vnd.microsoft.datawrangler.viewer.v0+json": {
       "columns": [
        {
         "name": "index",
         "rawType": "int64",
         "type": "integer"
        },
        {
         "name": "수신년도",
         "rawType": "int64",
         "type": "integer"
        },
        {
         "name": "수신월",
         "rawType": "int64",
         "type": "integer"
        },
        {
         "name": "수신일",
         "rawType": "int64",
         "type": "integer"
        },
        {
         "name": "수신시분초",
         "rawType": "int64",
         "type": "integer"
        },
        {
         "name": "신고년도",
         "rawType": "int64",
         "type": "integer"
        },
        {
         "name": "신고월",
         "rawType": "int64",
         "type": "integer"
        },
        {
         "name": "신고일",
         "rawType": "int64",
         "type": "integer"
        },
        {
         "name": "신고시분초",
         "rawType": "int64",
         "type": "integer"
        },
        {
         "name": "url",
         "rawType": "object",
         "type": "string"
        }
       ],
       "conversionMethod": "pd.DataFrame",
       "ref": "73582c5c-3dc2-49f8-a5e1-56be817bb9a3",
       "rows": [
        [
         "0",
         "2020",
         "1",
         "1",
         "101136",
         "2020",
         "1",
         "1",
         "101322",
         "hxxps://bit.ly/2F3ZKuZ"
        ],
        [
         "1",
         "2020",
         "1",
         "1",
         "101210",
         "2020",
         "1",
         "1",
         "132919",
         "hxxps://iii.im/8BkK"
        ],
        [
         "2",
         "2020",
         "1",
         "1",
         "111804",
         "2020",
         "1",
         "1",
         "111840",
         "hxxps://tuney.kr/mk1"
        ],
        [
         "3",
         "2020",
         "1",
         "1",
         "112359",
         "2020",
         "1",
         "1",
         "185818",
         "hxxps://iii.im/8BkK"
        ],
        [
         "4",
         "2020",
         "1",
         "1",
         "114716",
         "2020",
         "1",
         "1",
         "163343",
         "hxxp://band-us.io/589/7"
        ]
       ],
       "shape": {
        "columns": 9,
        "rows": 5
       }
      },
      "text/html": [
       "<div>\n",
       "<style scoped>\n",
       "    .dataframe tbody tr th:only-of-type {\n",
       "        vertical-align: middle;\n",
       "    }\n",
       "\n",
       "    .dataframe tbody tr th {\n",
       "        vertical-align: top;\n",
       "    }\n",
       "\n",
       "    .dataframe thead th {\n",
       "        text-align: right;\n",
       "    }\n",
       "</style>\n",
       "<table border=\"1\" class=\"dataframe\">\n",
       "  <thead>\n",
       "    <tr style=\"text-align: right;\">\n",
       "      <th></th>\n",
       "      <th>수신년도</th>\n",
       "      <th>수신월</th>\n",
       "      <th>수신일</th>\n",
       "      <th>수신시분초</th>\n",
       "      <th>신고년도</th>\n",
       "      <th>신고월</th>\n",
       "      <th>신고일</th>\n",
       "      <th>신고시분초</th>\n",
       "      <th>url</th>\n",
       "    </tr>\n",
       "  </thead>\n",
       "  <tbody>\n",
       "    <tr>\n",
       "      <th>0</th>\n",
       "      <td>2020</td>\n",
       "      <td>1</td>\n",
       "      <td>1</td>\n",
       "      <td>101136</td>\n",
       "      <td>2020</td>\n",
       "      <td>1</td>\n",
       "      <td>1</td>\n",
       "      <td>101322</td>\n",
       "      <td>hxxps://bit.ly/2F3ZKuZ</td>\n",
       "    </tr>\n",
       "    <tr>\n",
       "      <th>1</th>\n",
       "      <td>2020</td>\n",
       "      <td>1</td>\n",
       "      <td>1</td>\n",
       "      <td>101210</td>\n",
       "      <td>2020</td>\n",
       "      <td>1</td>\n",
       "      <td>1</td>\n",
       "      <td>132919</td>\n",
       "      <td>hxxps://iii.im/8BkK</td>\n",
       "    </tr>\n",
       "    <tr>\n",
       "      <th>2</th>\n",
       "      <td>2020</td>\n",
       "      <td>1</td>\n",
       "      <td>1</td>\n",
       "      <td>111804</td>\n",
       "      <td>2020</td>\n",
       "      <td>1</td>\n",
       "      <td>1</td>\n",
       "      <td>111840</td>\n",
       "      <td>hxxps://tuney.kr/mk1</td>\n",
       "    </tr>\n",
       "    <tr>\n",
       "      <th>3</th>\n",
       "      <td>2020</td>\n",
       "      <td>1</td>\n",
       "      <td>1</td>\n",
       "      <td>112359</td>\n",
       "      <td>2020</td>\n",
       "      <td>1</td>\n",
       "      <td>1</td>\n",
       "      <td>185818</td>\n",
       "      <td>hxxps://iii.im/8BkK</td>\n",
       "    </tr>\n",
       "    <tr>\n",
       "      <th>4</th>\n",
       "      <td>2020</td>\n",
       "      <td>1</td>\n",
       "      <td>1</td>\n",
       "      <td>114716</td>\n",
       "      <td>2020</td>\n",
       "      <td>1</td>\n",
       "      <td>1</td>\n",
       "      <td>163343</td>\n",
       "      <td>hxxp://band-us.io/589/7</td>\n",
       "    </tr>\n",
       "  </tbody>\n",
       "</table>\n",
       "</div>"
      ],
      "text/plain": [
       "   수신년도  수신월  수신일   수신시분초  신고년도  신고월  신고일   신고시분초                      url\n",
       "0  2020    1    1  101136  2020    1    1  101322   hxxps://bit.ly/2F3ZKuZ\n",
       "1  2020    1    1  101210  2020    1    1  132919      hxxps://iii.im/8BkK\n",
       "2  2020    1    1  111804  2020    1    1  111840     hxxps://tuney.kr/mk1\n",
       "3  2020    1    1  112359  2020    1    1  185818      hxxps://iii.im/8BkK\n",
       "4  2020    1    1  114716  2020    1    1  163343  hxxp://band-us.io/589/7"
      ]
     },
     "execution_count": 9,
     "metadata": {},
     "output_type": "execute_result"
    }
   ],
   "source": [
    "data2.head()\n"
   ]
  },
  {
   "cell_type": "code",
   "execution_count": 10,
   "id": "75e02806",
   "metadata": {},
   "outputs": [
    {
     "data": {
      "application/vnd.microsoft.datawrangler.viewer.v0+json": {
       "columns": [
        {
         "name": "index",
         "rawType": "int64",
         "type": "integer"
        },
        {
         "name": "url",
         "rawType": "object",
         "type": "string"
        },
        {
         "name": "type",
         "rawType": "object",
         "type": "string"
        }
       ],
       "conversionMethod": "pd.DataFrame",
       "ref": "21c61d9b-2325-4633-95c7-7ebef7165c7d",
       "rows": [
        [
         "0",
         "br-icloud.com.br",
         "phishing"
        ],
        [
         "1",
         "mp3raid.com/music/krizz_kaliko.html",
         "benign"
        ],
        [
         "2",
         "bopsecrets.org/rexroth/cr/1.htm",
         "benign"
        ],
        [
         "3",
         "http://www.garage-pirenne.be/index.php?option=com_content&view=article&id=70&vsig70_0=15",
         "defacement"
        ],
        [
         "4",
         "http://adventure-nicaragua.net/index.php?option=com_mailto&tmpl=component&link=aHR0cDovL2FkdmVudHVyZS1uaWNhcmFndWEubmV0L2luZGV4LnBocD9vcHRpb249Y29tX2NvbnRlbnQmdmlldz1hcnRpY2xlJmlkPTQ3OmFib3V0JmNhdGlkPTM2OmRlbW8tYXJ0aWNsZXMmSXRlbWlkPTU0",
         "defacement"
        ]
       ],
       "shape": {
        "columns": 2,
        "rows": 5
       }
      },
      "text/html": [
       "<div>\n",
       "<style scoped>\n",
       "    .dataframe tbody tr th:only-of-type {\n",
       "        vertical-align: middle;\n",
       "    }\n",
       "\n",
       "    .dataframe tbody tr th {\n",
       "        vertical-align: top;\n",
       "    }\n",
       "\n",
       "    .dataframe thead th {\n",
       "        text-align: right;\n",
       "    }\n",
       "</style>\n",
       "<table border=\"1\" class=\"dataframe\">\n",
       "  <thead>\n",
       "    <tr style=\"text-align: right;\">\n",
       "      <th></th>\n",
       "      <th>url</th>\n",
       "      <th>type</th>\n",
       "    </tr>\n",
       "  </thead>\n",
       "  <tbody>\n",
       "    <tr>\n",
       "      <th>0</th>\n",
       "      <td>br-icloud.com.br</td>\n",
       "      <td>phishing</td>\n",
       "    </tr>\n",
       "    <tr>\n",
       "      <th>1</th>\n",
       "      <td>mp3raid.com/music/krizz_kaliko.html</td>\n",
       "      <td>benign</td>\n",
       "    </tr>\n",
       "    <tr>\n",
       "      <th>2</th>\n",
       "      <td>bopsecrets.org/rexroth/cr/1.htm</td>\n",
       "      <td>benign</td>\n",
       "    </tr>\n",
       "    <tr>\n",
       "      <th>3</th>\n",
       "      <td>http://www.garage-pirenne.be/index.php?option=...</td>\n",
       "      <td>defacement</td>\n",
       "    </tr>\n",
       "    <tr>\n",
       "      <th>4</th>\n",
       "      <td>http://adventure-nicaragua.net/index.php?optio...</td>\n",
       "      <td>defacement</td>\n",
       "    </tr>\n",
       "  </tbody>\n",
       "</table>\n",
       "</div>"
      ],
      "text/plain": [
       "                                                 url        type\n",
       "0                                   br-icloud.com.br    phishing\n",
       "1                mp3raid.com/music/krizz_kaliko.html      benign\n",
       "2                    bopsecrets.org/rexroth/cr/1.htm      benign\n",
       "3  http://www.garage-pirenne.be/index.php?option=...  defacement\n",
       "4  http://adventure-nicaragua.net/index.php?optio...  defacement"
      ]
     },
     "execution_count": 10,
     "metadata": {},
     "output_type": "execute_result"
    }
   ],
   "source": [
    "data3.head()"
   ]
  },
  {
   "cell_type": "code",
   "execution_count": 11,
   "id": "86fa0c50",
   "metadata": {},
   "outputs": [],
   "source": [
    "data4 = data4.rename(columns={'URL':'url'})"
   ]
  },
  {
   "cell_type": "code",
   "execution_count": 12,
   "id": "7cc40686",
   "metadata": {},
   "outputs": [
    {
     "data": {
      "application/vnd.microsoft.datawrangler.viewer.v0+json": {
       "columns": [
        {
         "name": "index",
         "rawType": "int64",
         "type": "integer"
        },
        {
         "name": "url",
         "rawType": "object",
         "type": "string"
        },
        {
         "name": "Label",
         "rawType": "object",
         "type": "string"
        }
       ],
       "conversionMethod": "pd.DataFrame",
       "ref": "7fa3f6e8-06d8-4a3e-a507-f7be33c27a7d",
       "rows": [
        [
         "0",
         "nobell.it/70ffb52d079109dca5664cce6f317373782/login.SkyPe.com/en/cgi-bin/verification/login/70ffb52d079109dca5664cce6f317373/index.php?cmd=_profile-ach&outdated_page_tmpl=p/gen/failed-to-load&nav=0.5.1&login_access=1322408526",
         "bad"
        ],
        [
         "1",
         "www.dghjdgf.com/paypal.co.uk/cycgi-bin/webscrcmd=_home-customer&nav=1/loading.php",
         "bad"
        ],
        [
         "2",
         "serviciosbys.com/paypal.cgi.bin.get-into.herf.secure.dispatch35463256rzr321654641dsf654321874/href/href/href/secure/center/update/limit/seccure/4d7a1ff5c55825a2e632a679c2fd5353/",
         "bad"
        ],
        [
         "3",
         "mail.printakid.com/www.online.americanexpress.com/index.html",
         "bad"
        ],
        [
         "4",
         "thewhiskeydregs.com/wp-content/themes/widescreen/includes/temp/promocoessmiles/?84784787824HDJNDJDSJSHD//2724782784/",
         "bad"
        ]
       ],
       "shape": {
        "columns": 2,
        "rows": 5
       }
      },
      "text/html": [
       "<div>\n",
       "<style scoped>\n",
       "    .dataframe tbody tr th:only-of-type {\n",
       "        vertical-align: middle;\n",
       "    }\n",
       "\n",
       "    .dataframe tbody tr th {\n",
       "        vertical-align: top;\n",
       "    }\n",
       "\n",
       "    .dataframe thead th {\n",
       "        text-align: right;\n",
       "    }\n",
       "</style>\n",
       "<table border=\"1\" class=\"dataframe\">\n",
       "  <thead>\n",
       "    <tr style=\"text-align: right;\">\n",
       "      <th></th>\n",
       "      <th>url</th>\n",
       "      <th>Label</th>\n",
       "    </tr>\n",
       "  </thead>\n",
       "  <tbody>\n",
       "    <tr>\n",
       "      <th>0</th>\n",
       "      <td>nobell.it/70ffb52d079109dca5664cce6f317373782/...</td>\n",
       "      <td>bad</td>\n",
       "    </tr>\n",
       "    <tr>\n",
       "      <th>1</th>\n",
       "      <td>www.dghjdgf.com/paypal.co.uk/cycgi-bin/webscrc...</td>\n",
       "      <td>bad</td>\n",
       "    </tr>\n",
       "    <tr>\n",
       "      <th>2</th>\n",
       "      <td>serviciosbys.com/paypal.cgi.bin.get-into.herf....</td>\n",
       "      <td>bad</td>\n",
       "    </tr>\n",
       "    <tr>\n",
       "      <th>3</th>\n",
       "      <td>mail.printakid.com/www.online.americanexpress....</td>\n",
       "      <td>bad</td>\n",
       "    </tr>\n",
       "    <tr>\n",
       "      <th>4</th>\n",
       "      <td>thewhiskeydregs.com/wp-content/themes/widescre...</td>\n",
       "      <td>bad</td>\n",
       "    </tr>\n",
       "  </tbody>\n",
       "</table>\n",
       "</div>"
      ],
      "text/plain": [
       "                                                 url Label\n",
       "0  nobell.it/70ffb52d079109dca5664cce6f317373782/...   bad\n",
       "1  www.dghjdgf.com/paypal.co.uk/cycgi-bin/webscrc...   bad\n",
       "2  serviciosbys.com/paypal.cgi.bin.get-into.herf....   bad\n",
       "3  mail.printakid.com/www.online.americanexpress....   bad\n",
       "4  thewhiskeydregs.com/wp-content/themes/widescre...   bad"
      ]
     },
     "execution_count": 12,
     "metadata": {},
     "output_type": "execute_result"
    }
   ],
   "source": [
    "data4.head()"
   ]
  },
  {
   "cell_type": "code",
   "execution_count": 13,
   "id": "1d104522",
   "metadata": {},
   "outputs": [],
   "source": [
    "data5 = data5.rename(columns={'URL':'url'}) # url로 통일시켜주기"
   ]
  },
  {
   "cell_type": "code",
   "execution_count": 14,
   "id": "00d52ca4",
   "metadata": {},
   "outputs": [],
   "source": [
    "data5_url = data5[['url']]"
   ]
  },
  {
   "cell_type": "code",
   "execution_count": 15,
   "id": "ec40097d",
   "metadata": {},
   "outputs": [
    {
     "data": {
      "application/vnd.microsoft.datawrangler.viewer.v0+json": {
       "columns": [
        {
         "name": "index",
         "rawType": "int64",
         "type": "integer"
        },
        {
         "name": "url",
         "rawType": "object",
         "type": "string"
        }
       ],
       "conversionMethod": "pd.DataFrame",
       "ref": "5d798e51-0d0b-4dc0-89c9-3752128b836e",
       "rows": [
        [
         "0",
         "https://www.southbankmosaics.com"
        ],
        [
         "1",
         "https://www.uni-mainz.de"
        ],
        [
         "2",
         "https://www.voicefmradio.co.uk"
        ],
        [
         "3",
         "https://www.sfnmjournal.com"
        ],
        [
         "4",
         "https://www.rewildingargentina.org"
        ]
       ],
       "shape": {
        "columns": 1,
        "rows": 5
       }
      },
      "text/html": [
       "<div>\n",
       "<style scoped>\n",
       "    .dataframe tbody tr th:only-of-type {\n",
       "        vertical-align: middle;\n",
       "    }\n",
       "\n",
       "    .dataframe tbody tr th {\n",
       "        vertical-align: top;\n",
       "    }\n",
       "\n",
       "    .dataframe thead th {\n",
       "        text-align: right;\n",
       "    }\n",
       "</style>\n",
       "<table border=\"1\" class=\"dataframe\">\n",
       "  <thead>\n",
       "    <tr style=\"text-align: right;\">\n",
       "      <th></th>\n",
       "      <th>url</th>\n",
       "    </tr>\n",
       "  </thead>\n",
       "  <tbody>\n",
       "    <tr>\n",
       "      <th>0</th>\n",
       "      <td>https://www.southbankmosaics.com</td>\n",
       "    </tr>\n",
       "    <tr>\n",
       "      <th>1</th>\n",
       "      <td>https://www.uni-mainz.de</td>\n",
       "    </tr>\n",
       "    <tr>\n",
       "      <th>2</th>\n",
       "      <td>https://www.voicefmradio.co.uk</td>\n",
       "    </tr>\n",
       "    <tr>\n",
       "      <th>3</th>\n",
       "      <td>https://www.sfnmjournal.com</td>\n",
       "    </tr>\n",
       "    <tr>\n",
       "      <th>4</th>\n",
       "      <td>https://www.rewildingargentina.org</td>\n",
       "    </tr>\n",
       "  </tbody>\n",
       "</table>\n",
       "</div>"
      ],
      "text/plain": [
       "                                  url\n",
       "0    https://www.southbankmosaics.com\n",
       "1            https://www.uni-mainz.de\n",
       "2      https://www.voicefmradio.co.uk\n",
       "3         https://www.sfnmjournal.com\n",
       "4  https://www.rewildingargentina.org"
      ]
     },
     "execution_count": 15,
     "metadata": {},
     "output_type": "execute_result"
    }
   ],
   "source": [
    "data5_url.head()"
   ]
  },
  {
   "cell_type": "code",
   "execution_count": 16,
   "id": "cda669db",
   "metadata": {},
   "outputs": [],
   "source": [
    "# data6에 대한 처리\n",
    "data6 = data6.rename(columns = {'1':'index', 'google.com':'url'})"
   ]
  },
  {
   "cell_type": "code",
   "execution_count": 17,
   "id": "37fef907",
   "metadata": {},
   "outputs": [
    {
     "data": {
      "application/vnd.microsoft.datawrangler.viewer.v0+json": {
       "columns": [
        {
         "name": "index",
         "rawType": "int64",
         "type": "integer"
        },
        {
         "name": "index",
         "rawType": "int64",
         "type": "integer"
        },
        {
         "name": "url",
         "rawType": "object",
         "type": "string"
        }
       ],
       "conversionMethod": "pd.DataFrame",
       "ref": "d3019531-b10f-4b8d-85a2-814883c3f891",
       "rows": [
        [
         "0",
         "2",
         "youtube.com"
        ],
        [
         "1",
         "3",
         "facebook.com"
        ],
        [
         "2",
         "4",
         "baidu.com"
        ],
        [
         "3",
         "5",
         "wikipedia.org"
        ],
        [
         "4",
         "6",
         "yahoo.com"
        ]
       ],
       "shape": {
        "columns": 2,
        "rows": 5
       }
      },
      "text/html": [
       "<div>\n",
       "<style scoped>\n",
       "    .dataframe tbody tr th:only-of-type {\n",
       "        vertical-align: middle;\n",
       "    }\n",
       "\n",
       "    .dataframe tbody tr th {\n",
       "        vertical-align: top;\n",
       "    }\n",
       "\n",
       "    .dataframe thead th {\n",
       "        text-align: right;\n",
       "    }\n",
       "</style>\n",
       "<table border=\"1\" class=\"dataframe\">\n",
       "  <thead>\n",
       "    <tr style=\"text-align: right;\">\n",
       "      <th></th>\n",
       "      <th>index</th>\n",
       "      <th>url</th>\n",
       "    </tr>\n",
       "  </thead>\n",
       "  <tbody>\n",
       "    <tr>\n",
       "      <th>0</th>\n",
       "      <td>2</td>\n",
       "      <td>youtube.com</td>\n",
       "    </tr>\n",
       "    <tr>\n",
       "      <th>1</th>\n",
       "      <td>3</td>\n",
       "      <td>facebook.com</td>\n",
       "    </tr>\n",
       "    <tr>\n",
       "      <th>2</th>\n",
       "      <td>4</td>\n",
       "      <td>baidu.com</td>\n",
       "    </tr>\n",
       "    <tr>\n",
       "      <th>3</th>\n",
       "      <td>5</td>\n",
       "      <td>wikipedia.org</td>\n",
       "    </tr>\n",
       "    <tr>\n",
       "      <th>4</th>\n",
       "      <td>6</td>\n",
       "      <td>yahoo.com</td>\n",
       "    </tr>\n",
       "  </tbody>\n",
       "</table>\n",
       "</div>"
      ],
      "text/plain": [
       "   index            url\n",
       "0      2    youtube.com\n",
       "1      3   facebook.com\n",
       "2      4      baidu.com\n",
       "3      5  wikipedia.org\n",
       "4      6      yahoo.com"
      ]
     },
     "execution_count": 17,
     "metadata": {},
     "output_type": "execute_result"
    }
   ],
   "source": [
    "data6.head()"
   ]
  },
  {
   "cell_type": "code",
   "execution_count": 18,
   "id": "8572139c",
   "metadata": {},
   "outputs": [],
   "source": [
    "# data7에 대한 처리\n",
    "data7 = data7.rename(columns = {'http://www.liquidgeneration.com/':'url'})"
   ]
  },
  {
   "cell_type": "code",
   "execution_count": 19,
   "id": "40248ed1",
   "metadata": {},
   "outputs": [
    {
     "data": {
      "application/vnd.microsoft.datawrangler.viewer.v0+json": {
       "columns": [
        {
         "name": "index",
         "rawType": "int64",
         "type": "integer"
        },
        {
         "name": "1",
         "rawType": "int64",
         "type": "integer"
        },
        {
         "name": "url",
         "rawType": "object",
         "type": "string"
        },
        {
         "name": "Adult",
         "rawType": "object",
         "type": "string"
        }
       ],
       "conversionMethod": "pd.DataFrame",
       "ref": "97c7caae-a0b3-4462-a889-d5829d594444",
       "rows": [
        [
         "0",
         "2",
         "http://www.onlineanime.org/",
         "Adult"
        ],
        [
         "1",
         "3",
         "http://www.ceres.dti.ne.jp/~nekoi/senno/senfirst.html",
         "Adult"
        ],
        [
         "2",
         "4",
         "http://www.galeon.com/kmh/",
         "Adult"
        ],
        [
         "3",
         "5",
         "http://www.fanworkrecs.com/",
         "Adult"
        ],
        [
         "4",
         "6",
         "http://www.animehouse.com/",
         "Adult"
        ]
       ],
       "shape": {
        "columns": 3,
        "rows": 5
       }
      },
      "text/html": [
       "<div>\n",
       "<style scoped>\n",
       "    .dataframe tbody tr th:only-of-type {\n",
       "        vertical-align: middle;\n",
       "    }\n",
       "\n",
       "    .dataframe tbody tr th {\n",
       "        vertical-align: top;\n",
       "    }\n",
       "\n",
       "    .dataframe thead th {\n",
       "        text-align: right;\n",
       "    }\n",
       "</style>\n",
       "<table border=\"1\" class=\"dataframe\">\n",
       "  <thead>\n",
       "    <tr style=\"text-align: right;\">\n",
       "      <th></th>\n",
       "      <th>1</th>\n",
       "      <th>url</th>\n",
       "      <th>Adult</th>\n",
       "    </tr>\n",
       "  </thead>\n",
       "  <tbody>\n",
       "    <tr>\n",
       "      <th>0</th>\n",
       "      <td>2</td>\n",
       "      <td>http://www.onlineanime.org/</td>\n",
       "      <td>Adult</td>\n",
       "    </tr>\n",
       "    <tr>\n",
       "      <th>1</th>\n",
       "      <td>3</td>\n",
       "      <td>http://www.ceres.dti.ne.jp/~nekoi/senno/senfir...</td>\n",
       "      <td>Adult</td>\n",
       "    </tr>\n",
       "    <tr>\n",
       "      <th>2</th>\n",
       "      <td>4</td>\n",
       "      <td>http://www.galeon.com/kmh/</td>\n",
       "      <td>Adult</td>\n",
       "    </tr>\n",
       "    <tr>\n",
       "      <th>3</th>\n",
       "      <td>5</td>\n",
       "      <td>http://www.fanworkrecs.com/</td>\n",
       "      <td>Adult</td>\n",
       "    </tr>\n",
       "    <tr>\n",
       "      <th>4</th>\n",
       "      <td>6</td>\n",
       "      <td>http://www.animehouse.com/</td>\n",
       "      <td>Adult</td>\n",
       "    </tr>\n",
       "  </tbody>\n",
       "</table>\n",
       "</div>"
      ],
      "text/plain": [
       "   1                                                url  Adult\n",
       "0  2                        http://www.onlineanime.org/  Adult\n",
       "1  3  http://www.ceres.dti.ne.jp/~nekoi/senno/senfir...  Adult\n",
       "2  4                         http://www.galeon.com/kmh/  Adult\n",
       "3  5                        http://www.fanworkrecs.com/  Adult\n",
       "4  6                         http://www.animehouse.com/  Adult"
      ]
     },
     "execution_count": 19,
     "metadata": {},
     "output_type": "execute_result"
    }
   ],
   "source": [
    "data7.head()"
   ]
  },
  {
   "cell_type": "code",
   "execution_count": 20,
   "id": "8f303809",
   "metadata": {},
   "outputs": [
    {
     "data": {
      "application/vnd.microsoft.datawrangler.viewer.v0+json": {
       "columns": [
        {
         "name": "index",
         "rawType": "int64",
         "type": "integer"
        },
        {
         "name": "url",
         "rawType": "object",
         "type": "string"
        },
        {
         "name": "label",
         "rawType": "object",
         "type": "string"
        }
       ],
       "conversionMethod": "pd.DataFrame",
       "ref": "b6298a5c-5761-4d16-9daf-92460bab5b40",
       "rows": [
        [
         "0",
         "diaryofagameaddict.com",
         "bad"
        ],
        [
         "1",
         "espdesign.com.au",
         "bad"
        ],
        [
         "2",
         "iamagameaddict.com",
         "bad"
        ],
        [
         "3",
         "kalantzis.net",
         "bad"
        ],
        [
         "4",
         "slightlyoffcenter.net",
         "bad"
        ]
       ],
       "shape": {
        "columns": 2,
        "rows": 5
       }
      },
      "text/html": [
       "<div>\n",
       "<style scoped>\n",
       "    .dataframe tbody tr th:only-of-type {\n",
       "        vertical-align: middle;\n",
       "    }\n",
       "\n",
       "    .dataframe tbody tr th {\n",
       "        vertical-align: top;\n",
       "    }\n",
       "\n",
       "    .dataframe thead th {\n",
       "        text-align: right;\n",
       "    }\n",
       "</style>\n",
       "<table border=\"1\" class=\"dataframe\">\n",
       "  <thead>\n",
       "    <tr style=\"text-align: right;\">\n",
       "      <th></th>\n",
       "      <th>url</th>\n",
       "      <th>label</th>\n",
       "    </tr>\n",
       "  </thead>\n",
       "  <tbody>\n",
       "    <tr>\n",
       "      <th>0</th>\n",
       "      <td>diaryofagameaddict.com</td>\n",
       "      <td>bad</td>\n",
       "    </tr>\n",
       "    <tr>\n",
       "      <th>1</th>\n",
       "      <td>espdesign.com.au</td>\n",
       "      <td>bad</td>\n",
       "    </tr>\n",
       "    <tr>\n",
       "      <th>2</th>\n",
       "      <td>iamagameaddict.com</td>\n",
       "      <td>bad</td>\n",
       "    </tr>\n",
       "    <tr>\n",
       "      <th>3</th>\n",
       "      <td>kalantzis.net</td>\n",
       "      <td>bad</td>\n",
       "    </tr>\n",
       "    <tr>\n",
       "      <th>4</th>\n",
       "      <td>slightlyoffcenter.net</td>\n",
       "      <td>bad</td>\n",
       "    </tr>\n",
       "  </tbody>\n",
       "</table>\n",
       "</div>"
      ],
      "text/plain": [
       "                      url label\n",
       "0  diaryofagameaddict.com   bad\n",
       "1        espdesign.com.au   bad\n",
       "2      iamagameaddict.com   bad\n",
       "3           kalantzis.net   bad\n",
       "4   slightlyoffcenter.net   bad"
      ]
     },
     "execution_count": 20,
     "metadata": {},
     "output_type": "execute_result"
    }
   ],
   "source": [
    "data8.head()"
   ]
  },
  {
   "cell_type": "code",
   "execution_count": 21,
   "id": "0917e0a8",
   "metadata": {},
   "outputs": [
    {
     "data": {
      "application/vnd.microsoft.datawrangler.viewer.v0+json": {
       "columns": [
        {
         "name": "index",
         "rawType": "int64",
         "type": "integer"
        },
        {
         "name": "phish_id",
         "rawType": "int64",
         "type": "integer"
        },
        {
         "name": "url",
         "rawType": "object",
         "type": "string"
        },
        {
         "name": "phish_detail_url",
         "rawType": "object",
         "type": "string"
        },
        {
         "name": "submission_time",
         "rawType": "object",
         "type": "string"
        },
        {
         "name": "verified",
         "rawType": "object",
         "type": "string"
        },
        {
         "name": "verification_time",
         "rawType": "object",
         "type": "string"
        },
        {
         "name": "online",
         "rawType": "object",
         "type": "string"
        },
        {
         "name": "target",
         "rawType": "object",
         "type": "string"
        }
       ],
       "conversionMethod": "pd.DataFrame",
       "ref": "e6a587f2-b37f-48a3-8762-8839b993ac2f",
       "rows": [
        [
         "0",
         "9062484",
         "https://bit-payments.top/payform/539433/y2/53/?csrf=18275",
         "http://www.phishtank.com/phish_detail.php?phish_id=9062484",
         "2025-04-14T17:29:29+00:00",
         "yes",
         "2025-04-14T21:02:25+00:00",
         "yes",
         "Other"
        ],
        [
         "1",
         "9062405",
         "https://docs.google.com/presentation/d/e/2PACX-1vSb_ZxSvKrt7uLER9C00Xvb0KONLkLlaJoXQLbuE9zixOArzzI8rFUWQoOWhMA2ZqzffIIsDaAkckTX/pub?start=false&amp;loop=false&amp;delayms=3000",
         "http://www.phishtank.com/phish_detail.php?phish_id=9062405",
         "2025-04-14T16:01:19+00:00",
         "yes",
         "2025-04-15T00:32:11+00:00",
         "yes",
         "Other"
        ],
        [
         "2",
         "9062397",
         "https://begi--n---rebby.webflow.io",
         "http://www.phishtank.com/phish_detail.php?phish_id=9062397",
         "2025-04-14T15:37:31+00:00",
         "yes",
         "2025-04-15T00:32:11+00:00",
         "yes",
         "Other"
        ],
        [
         "3",
         "9062396",
         "https://neat-industry-119825.framer.app/",
         "http://www.phishtank.com/phish_detail.php?phish_id=9062396",
         "2025-04-14T15:37:13+00:00",
         "yes",
         "2025-04-15T00:32:11+00:00",
         "yes",
         "Other"
        ],
        [
         "4",
         "9062388",
         "https://neutralprotocol.netlify.app/app/",
         "http://www.phishtank.com/phish_detail.php?phish_id=9062388",
         "2025-04-14T15:32:47+00:00",
         "yes",
         "2025-04-15T00:21:49+00:00",
         "yes",
         "Other"
        ]
       ],
       "shape": {
        "columns": 8,
        "rows": 5
       }
      },
      "text/html": [
       "<div>\n",
       "<style scoped>\n",
       "    .dataframe tbody tr th:only-of-type {\n",
       "        vertical-align: middle;\n",
       "    }\n",
       "\n",
       "    .dataframe tbody tr th {\n",
       "        vertical-align: top;\n",
       "    }\n",
       "\n",
       "    .dataframe thead th {\n",
       "        text-align: right;\n",
       "    }\n",
       "</style>\n",
       "<table border=\"1\" class=\"dataframe\">\n",
       "  <thead>\n",
       "    <tr style=\"text-align: right;\">\n",
       "      <th></th>\n",
       "      <th>phish_id</th>\n",
       "      <th>url</th>\n",
       "      <th>phish_detail_url</th>\n",
       "      <th>submission_time</th>\n",
       "      <th>verified</th>\n",
       "      <th>verification_time</th>\n",
       "      <th>online</th>\n",
       "      <th>target</th>\n",
       "    </tr>\n",
       "  </thead>\n",
       "  <tbody>\n",
       "    <tr>\n",
       "      <th>0</th>\n",
       "      <td>9062484</td>\n",
       "      <td>https://bit-payments.top/payform/539433/y2/53/...</td>\n",
       "      <td>http://www.phishtank.com/phish_detail.php?phis...</td>\n",
       "      <td>2025-04-14T17:29:29+00:00</td>\n",
       "      <td>yes</td>\n",
       "      <td>2025-04-14T21:02:25+00:00</td>\n",
       "      <td>yes</td>\n",
       "      <td>Other</td>\n",
       "    </tr>\n",
       "    <tr>\n",
       "      <th>1</th>\n",
       "      <td>9062405</td>\n",
       "      <td>https://docs.google.com/presentation/d/e/2PACX...</td>\n",
       "      <td>http://www.phishtank.com/phish_detail.php?phis...</td>\n",
       "      <td>2025-04-14T16:01:19+00:00</td>\n",
       "      <td>yes</td>\n",
       "      <td>2025-04-15T00:32:11+00:00</td>\n",
       "      <td>yes</td>\n",
       "      <td>Other</td>\n",
       "    </tr>\n",
       "    <tr>\n",
       "      <th>2</th>\n",
       "      <td>9062397</td>\n",
       "      <td>https://begi--n---rebby.webflow.io</td>\n",
       "      <td>http://www.phishtank.com/phish_detail.php?phis...</td>\n",
       "      <td>2025-04-14T15:37:31+00:00</td>\n",
       "      <td>yes</td>\n",
       "      <td>2025-04-15T00:32:11+00:00</td>\n",
       "      <td>yes</td>\n",
       "      <td>Other</td>\n",
       "    </tr>\n",
       "    <tr>\n",
       "      <th>3</th>\n",
       "      <td>9062396</td>\n",
       "      <td>https://neat-industry-119825.framer.app/</td>\n",
       "      <td>http://www.phishtank.com/phish_detail.php?phis...</td>\n",
       "      <td>2025-04-14T15:37:13+00:00</td>\n",
       "      <td>yes</td>\n",
       "      <td>2025-04-15T00:32:11+00:00</td>\n",
       "      <td>yes</td>\n",
       "      <td>Other</td>\n",
       "    </tr>\n",
       "    <tr>\n",
       "      <th>4</th>\n",
       "      <td>9062388</td>\n",
       "      <td>https://neutralprotocol.netlify.app/app/</td>\n",
       "      <td>http://www.phishtank.com/phish_detail.php?phis...</td>\n",
       "      <td>2025-04-14T15:32:47+00:00</td>\n",
       "      <td>yes</td>\n",
       "      <td>2025-04-15T00:21:49+00:00</td>\n",
       "      <td>yes</td>\n",
       "      <td>Other</td>\n",
       "    </tr>\n",
       "  </tbody>\n",
       "</table>\n",
       "</div>"
      ],
      "text/plain": [
       "   phish_id                                                url  \\\n",
       "0   9062484  https://bit-payments.top/payform/539433/y2/53/...   \n",
       "1   9062405  https://docs.google.com/presentation/d/e/2PACX...   \n",
       "2   9062397                 https://begi--n---rebby.webflow.io   \n",
       "3   9062396           https://neat-industry-119825.framer.app/   \n",
       "4   9062388           https://neutralprotocol.netlify.app/app/   \n",
       "\n",
       "                                    phish_detail_url  \\\n",
       "0  http://www.phishtank.com/phish_detail.php?phis...   \n",
       "1  http://www.phishtank.com/phish_detail.php?phis...   \n",
       "2  http://www.phishtank.com/phish_detail.php?phis...   \n",
       "3  http://www.phishtank.com/phish_detail.php?phis...   \n",
       "4  http://www.phishtank.com/phish_detail.php?phis...   \n",
       "\n",
       "             submission_time verified          verification_time online target  \n",
       "0  2025-04-14T17:29:29+00:00      yes  2025-04-14T21:02:25+00:00    yes  Other  \n",
       "1  2025-04-14T16:01:19+00:00      yes  2025-04-15T00:32:11+00:00    yes  Other  \n",
       "2  2025-04-14T15:37:31+00:00      yes  2025-04-15T00:32:11+00:00    yes  Other  \n",
       "3  2025-04-14T15:37:13+00:00      yes  2025-04-15T00:32:11+00:00    yes  Other  \n",
       "4  2025-04-14T15:32:47+00:00      yes  2025-04-15T00:21:49+00:00    yes  Other  "
      ]
     },
     "execution_count": 21,
     "metadata": {},
     "output_type": "execute_result"
    }
   ],
   "source": [
    "data9.head()"
   ]
  },
  {
   "cell_type": "code",
   "execution_count": 22,
   "id": "238ed9a3",
   "metadata": {},
   "outputs": [],
   "source": [
    "# 데이터 병합, url 컬럼만 추출\n",
    "result = pd.concat([\n",
    "    data1[['url']], \n",
    "    data2[['url']], \n",
    "    data3[['url']], \n",
    "    data4[['url']],\n",
    "    data5_url[['url']], # 컬럼이 많은 data5에서 url만 추출\n",
    "    data6[['url']], \n",
    "    data7[['url']], \n",
    "    data8[['url']], \n",
    "    data9[['url']]\n",
    "], axis = 0)\n",
    "all_url = result[['url']]"
   ]
  },
  {
   "cell_type": "code",
   "execution_count": 23,
   "id": "3eeb0cf7",
   "metadata": {},
   "outputs": [
    {
     "data": {
      "application/vnd.microsoft.datawrangler.viewer.v0+json": {
       "columns": [
        {
         "name": "index",
         "rawType": "int64",
         "type": "integer"
        },
        {
         "name": "url",
         "rawType": "object",
         "type": "string"
        }
       ],
       "conversionMethod": "pd.DataFrame",
       "ref": "3d967215-765a-4e00-adf3-659b0e67641d",
       "rows": [
        [
         "0",
         "https://nuly.do/6FVa"
        ],
        [
         "1",
         "http://yufsv3.zoeu.uno"
        ],
        [
         "2",
         "http://han.gl/RVeMq"
        ],
        [
         "3",
         "https://han.gl/pxkQl"
        ],
        [
         "4",
         "https://c11.kr/195x9"
        ],
        [
         "5",
         "bmk.ilogensn.com/"
        ],
        [
         "6",
         "bns.ilogensn.com/"
        ],
        [
         "7",
         "https://c11.kr/195s9"
        ],
        [
         "8",
         "bsk.ilogensn.com/"
        ],
        [
         "9",
         "https://c11.kr/195s9"
        ],
        [
         "10",
         "https://han.gl/tWGPM"
        ],
        [
         "11",
         "https://c11.kr/1975j"
        ],
        [
         "12",
         "http://bit.ly/3PAhAYO"
        ],
        [
         "13",
         "http://gtzt5.hnztu.beauty"
        ],
        [
         "14",
         "http://m04.x7hz.black"
        ],
        [
         "15",
         "bsk.ilogensn.com/"
        ],
        [
         "16",
         "http://dfse.oksn.miami"
        ],
        [
         "17",
         "nso.ilogenboi.com/"
        ],
        [
         "18",
         "http://st21.bxg9.wtf"
        ],
        [
         "19",
         "http://bfzsw.nksh.beauty"
        ],
        [
         "20",
         "c15.zty5.show"
        ],
        [
         "21",
         "bsk.ilogensn.com/"
        ],
        [
         "22",
         "noy.sue9.work"
        ],
        [
         "23",
         "aabr.to7t.cyou"
        ],
        [
         "24",
         "http://ssur.cc/GR9et"
        ],
        [
         "25",
         "http://wwmae.pmquu.com"
        ],
        [
         "26",
         "http://opb72.twkx.asia"
        ],
        [
         "27",
         "http://vds.ilogenis.com/"
        ],
        [
         "28",
         "http://vds.ilogenis.com"
        ],
        [
         "29",
         "vds.ilogenis.com/"
        ],
        [
         "30",
         "http://pks.ilogenis.com"
        ],
        [
         "31",
         "vdw.ilogenis.com/"
        ],
        [
         "32",
         "kmg.lottegskkm.com"
        ],
        [
         "33",
         "pks.ilogenis.com/"
        ],
        [
         "34",
         "vds.ilogenis.com/"
        ],
        [
         "35",
         "http://ncsz.erox.agency"
        ],
        [
         "36",
         "https://c11.kr/195x9"
        ],
        [
         "37",
         "https://bit.ly/3b4JT2u"
        ],
        [
         "38",
         "http://fds.cjthemadm.com/cqv6ux"
        ],
        [
         "39",
         "https://bit.ly/3mQIMqo"
        ],
        [
         "40",
         "nsw.ilogenbi.com/"
        ],
        [
         "41",
         "skm.balsongkin.com"
        ],
        [
         "42",
         "http://fbgrb.upeea.com"
        ],
        [
         "43",
         "http://qlvgx.wwbgh.com"
        ],
        [
         "44",
         "https://url.vet/yz7qu"
        ],
        [
         "45",
         "vdw.ilogenis.com/"
        ],
        [
         "46",
         "https://url.vet/yz7qu"
        ],
        [
         "47",
         "https://c11.kr/19er7"
        ],
        [
         "48",
         "https://c11.kr/19er7"
        ],
        [
         "49",
         "https://url.vet/yz7qu"
        ]
       ],
       "shape": {
        "columns": 1,
        "rows": 4511949
       }
      },
      "text/html": [
       "<div>\n",
       "<style scoped>\n",
       "    .dataframe tbody tr th:only-of-type {\n",
       "        vertical-align: middle;\n",
       "    }\n",
       "\n",
       "    .dataframe tbody tr th {\n",
       "        vertical-align: top;\n",
       "    }\n",
       "\n",
       "    .dataframe thead th {\n",
       "        text-align: right;\n",
       "    }\n",
       "</style>\n",
       "<table border=\"1\" class=\"dataframe\">\n",
       "  <thead>\n",
       "    <tr style=\"text-align: right;\">\n",
       "      <th></th>\n",
       "      <th>url</th>\n",
       "    </tr>\n",
       "  </thead>\n",
       "  <tbody>\n",
       "    <tr>\n",
       "      <th>0</th>\n",
       "      <td>https://nuly.do/6FVa</td>\n",
       "    </tr>\n",
       "    <tr>\n",
       "      <th>1</th>\n",
       "      <td>http://yufsv3.zoeu.uno</td>\n",
       "    </tr>\n",
       "    <tr>\n",
       "      <th>2</th>\n",
       "      <td>http://han.gl/RVeMq</td>\n",
       "    </tr>\n",
       "    <tr>\n",
       "      <th>3</th>\n",
       "      <td>https://han.gl/pxkQl</td>\n",
       "    </tr>\n",
       "    <tr>\n",
       "      <th>4</th>\n",
       "      <td>https://c11.kr/195x9</td>\n",
       "    </tr>\n",
       "    <tr>\n",
       "      <th>...</th>\n",
       "      <td>...</td>\n",
       "    </tr>\n",
       "    <tr>\n",
       "      <th>64488</th>\n",
       "      <td>http://www.ezblox.site/free/jennifer111/helpdesk</td>\n",
       "    </tr>\n",
       "    <tr>\n",
       "      <th>64489</th>\n",
       "      <td>http://www.formbuddy.com/cgi-bin/formdisp.pl?u...</td>\n",
       "    </tr>\n",
       "    <tr>\n",
       "      <th>64490</th>\n",
       "      <td>http://www.formbuddy.com/cgi-bin/formdisp.pl?u...</td>\n",
       "    </tr>\n",
       "    <tr>\n",
       "      <th>64491</th>\n",
       "      <td>http://www.habbocreditosparati.blogspot.com/</td>\n",
       "    </tr>\n",
       "    <tr>\n",
       "      <th>64492</th>\n",
       "      <td>http://creditiperhabbogratissicuro100.blogspot...</td>\n",
       "    </tr>\n",
       "  </tbody>\n",
       "</table>\n",
       "<p>4511949 rows × 1 columns</p>\n",
       "</div>"
      ],
      "text/plain": [
       "                                                     url\n",
       "0                                   https://nuly.do/6FVa\n",
       "1                                 http://yufsv3.zoeu.uno\n",
       "2                                    http://han.gl/RVeMq\n",
       "3                                   https://han.gl/pxkQl\n",
       "4                                   https://c11.kr/195x9\n",
       "...                                                  ...\n",
       "64488   http://www.ezblox.site/free/jennifer111/helpdesk\n",
       "64489  http://www.formbuddy.com/cgi-bin/formdisp.pl?u...\n",
       "64490  http://www.formbuddy.com/cgi-bin/formdisp.pl?u...\n",
       "64491       http://www.habbocreditosparati.blogspot.com/\n",
       "64492  http://creditiperhabbogratissicuro100.blogspot...\n",
       "\n",
       "[4511949 rows x 1 columns]"
      ]
     },
     "execution_count": 23,
     "metadata": {},
     "output_type": "execute_result"
    }
   ],
   "source": [
    "all_url"
   ]
  },
  {
   "cell_type": "markdown",
   "id": "47f9a0c0",
   "metadata": {},
   "source": [
    "# 통합된 데이터의 분석\n",
    "## URL 유효성 검사\n",
    "- 조건문으로 https:// 안 붙은 건 다 붙여주고 검사\n",
    "- 자동화"
   ]
  },
  {
   "cell_type": "markdown",
   "id": "e8c7b533",
   "metadata": {},
   "source": [
    "### 데이터 전처리\n",
    "- 조건문으로 https:// 안 붙은 건 다 붙여주기\n",
    "\n",
    "startswith 함수\n",
    "replace\n",
    "\n",
    "for a in b\n",
    "    if str(a).startswith('https://' or 'http://'):\n",
    "        스킵\n",
    "    elif str(a).startswith('hxxp')"
   ]
  },
  {
   "cell_type": "code",
   "execution_count": 24,
   "id": "50fcc8e0",
   "metadata": {},
   "outputs": [],
   "source": [
    "all_url = all_url.drop_duplicates()\n",
    "\n",
    "processed_urls = []\n",
    "\n",
    "for url in all_url[\"url\"]:\n",
    "    if url.startswith('https://') or url.startswith('http://'):\n",
    "        processed_urls.append(url)\n",
    "        \n",
    "    elif url.startswith('hxxp'):\n",
    "        url.replace('hxxp', 'https', 1)\n",
    "        processed_urls.append(url)\n",
    "        \n",
    "    else:\n",
    "        url = 'https://' + url\n",
    "        processed_urls.append(url)"
   ]
  },
  {
   "cell_type": "code",
   "execution_count": 25,
   "id": "b74d517c",
   "metadata": {},
   "outputs": [
    {
     "data": {
      "text/plain": [
       "['https://c11.kr/1975j',\n",
       " 'http://bit.ly/3PAhAYO',\n",
       " 'http://gtzt5.hnztu.beauty',\n",
       " 'http://m04.x7hz.black',\n",
       " 'http://dfse.oksn.miami',\n",
       " 'https://nso.ilogenboi.com/',\n",
       " 'http://st21.bxg9.wtf',\n",
       " 'http://bfzsw.nksh.beauty',\n",
       " 'https://c15.zty5.show',\n",
       " 'https://noy.sue9.work',\n",
       " 'https://aabr.to7t.cyou',\n",
       " 'http://ssur.cc/GR9et',\n",
       " 'http://wwmae.pmquu.com',\n",
       " 'http://opb72.twkx.asia',\n",
       " 'http://vds.ilogenis.com/',\n",
       " 'http://vds.ilogenis.com',\n",
       " 'https://vds.ilogenis.com/',\n",
       " 'http://pks.ilogenis.com',\n",
       " 'https://vdw.ilogenis.com/',\n",
       " 'https://kmg.lottegskkm.com',\n",
       " 'https://pks.ilogenis.com/',\n",
       " 'http://ncsz.erox.agency',\n",
       " 'https://bit.ly/3b4JT2u',\n",
       " 'http://fds.cjthemadm.com/cqv6ux',\n",
       " 'https://bit.ly/3mQIMqo',\n",
       " 'https://nsw.ilogenbi.com/',\n",
       " 'https://skm.balsongkin.com',\n",
       " 'http://fbgrb.upeea.com',\n",
       " 'http://qlvgx.wwbgh.com',\n",
       " 'https://url.vet/yz7qu',\n",
       " 'https://c11.kr/19er7',\n",
       " 'https://url.vet/bsscx',\n",
       " 'https://kso.lotteglogins.com/',\n",
       " 'http://hfrdq.nmeo.press',\n",
       " 'http://brtz.erox.agency',\n",
       " 'https://bnm.ilogennci.com/',\n",
       " 'https://kns.lotteglogins.com/',\n",
       " 'https://ksm.lotteglogins.com/',\n",
       " 'https://cks.lotteglogins.com/',\n",
       " 'https://kgm.lottegskkm.com',\n",
       " 'https://kkm.ilogenodm.com/',\n",
       " 'http://m12.hvd8.wtf',\n",
       " 'https://mkg.ilogenoni.com/',\n",
       " 'http://cc07.n1dp.black',\n",
       " 'https://onx.z9yf.media',\n",
       " 'https://smk.ilogenodm.com/',\n",
       " 'http://hdiqz.isnf.asia',\n",
       " 'https://gs.ilogenoms.com/',\n",
       " 'https://skn.ilogenoni.com',\n",
       " 'https://gs.ilogenoms.com/외',\n",
       " 'https://cls.ilogensims.com/',\n",
       " 'http://t2m.kr/l8BTC',\n",
       " 'https://bit.ly/3qC9LHm',\n",
       " 'http://ghcvx.pinb.hair',\n",
       " 'http://bit.ly/3MLcWVU',\n",
       " 'https://nkp.ilogenong.com/',\n",
       " 'https://smi.ilogenong.com/',\n",
       " 'https://c11.kr/18zh1',\n",
       " 'http://ghfdfb.ysbn.quest',\n",
       " 'http://in05.t8ph.wtf',\n",
       " 'http://vdw.ilogenis.com',\n",
       " 'https://kso.ilogenski.com/',\n",
       " 'https://kms.ilogenski.com/',\n",
       " 'https://bit.ly/3FBTJni',\n",
       " 'http://jtfvb.puth.agency',\n",
       " 'http://hrd3.nksh.beauty',\n",
       " 'http://www.cjlogisticss.com/8hzuf0',\n",
       " 'https://skm.ilogenonk.com/',\n",
       " 'https://mkg.ilogekonk.com/',\n",
       " 'https://snk.ilogendn.com/',\n",
       " 'https://han.gl/ydwJH',\n",
       " 'http://c01.sowp.pics',\n",
       " 'http://m01.yup3.pics',\n",
       " 'http://c02.sowp.pics',\n",
       " 'https://han.gl/RrdbA',\n",
       " 'http://b12.k2wt.black',\n",
       " 'http://hgrcex.zuex.hair',\n",
       " 'http://s07.sowp.pics',\n",
       " 'http://bit.ly/3bNvk0c',\n",
       " 'http://han.gl/GHMzb',\n",
       " 'https://km.msso.top',\n",
       " 'http://mjlbz.jurmw.com',\n",
       " 'https://han.gl/GBGVi',\n",
       " 'https://kop.ilogekonk.com/',\n",
       " 'http://bit.ly/3IQS1Ax',\n",
       " 'http://bit.ly/39Z2OeU',\n",
       " 'https://han.gl/BJMwv',\n",
       " 'https://han.gl/ZjeBr',\n",
       " 'https://skn.ilogenmsi.com/',\n",
       " 'https://bsk.ilogenbs.com/',\n",
       " 'http://gfhr.wunrx.quest',\n",
       " 'https://msk.ilogenbs.com/',\n",
       " 'http://han.gl/ITWPA',\n",
       " 'https://xoa.op2n.gold',\n",
       " 'http://bit.ly/3AMYwSN',\n",
       " 'https://gmk.ilogenkdon.com',\n",
       " 'https://gmk.ilogenkdon.com/',\n",
       " 'http://sm.munjoskm.top/kgho',\n",
       " 'https://bit.ly/3Uf5dnH',\n",
       " 'https://bit.ly/',\n",
       " 'https://mgk.ilogenkdon.com/',\n",
       " 'https://bc.ilogenci.com/',\n",
       " 'https://gs.ilogenci.com',\n",
       " 'https://gs.ilogenci.com/',\n",
       " 'https://msk.ilogenbs.com',\n",
       " 'https://bkm.ilogenkdo.com/',\n",
       " 'https://bo.ilogenci.com/',\n",
       " 'http://gdbe.xvys.hair',\n",
       " 'https://kgs.ilogenkdon.com/',\n",
       " 'https://c11.kr/1ak6y',\n",
       " 'https://c11.kr/1ak6y외',\n",
       " 'http://hj767j6.oeicv.kr',\n",
       " 'http://ikop.jdtr.beauty',\n",
       " 'https://buly.kr/5q2Q21g',\n",
       " 'http://bit.ly/3OjdJhz',\n",
       " 'https://skm.ilogenciskn.com/',\n",
       " 'https://skm.ilogenciskn.com',\n",
       " 'https://ko.ilogensmi.com/',\n",
       " 'http://bd.skmsok.top',\n",
       " 'https://bit.ly/3MUiPkU',\n",
       " 'http://a2dg.oiwm.miami',\n",
       " 'https://mmk.ilogenmd.com/',\n",
       " 'https://kkm.ilogenciskn.com/',\n",
       " 'https://mmk.ilogenksm.com/',\n",
       " 'https://zrr.kr/rJZX',\n",
       " 'https://bmk.ilogenmd.com/',\n",
       " 'https://zrr.kr/cslV',\n",
       " 'https://zrr.kr/cTBI',\n",
       " 'http://kdcn.vip',\n",
       " 'https://skm.ilogenck.com/',\n",
       " 'https://ks.ilogenkk.com/',\n",
       " 'http://gdgsd.msiue.fun',\n",
       " 'https://skk.ilogenck.com/',\n",
       " 'https://si.sjdww.top',\n",
       " 'https://c11.kr/1axri',\n",
       " 'https://bit.ly/3TYbeEp',\n",
       " 'https://url.kr/hOQXS9',\n",
       " 'http://hhw.nsovu.kr',\n",
       " 'http://ji7f.znek.agency',\n",
       " 'http://nfswz.nftsout.com',\n",
       " 'http://xcvs.uwin.casa',\n",
       " 'https://sin.ilogsnsmi.com/',\n",
       " 'https://kks.logesk.com/',\n",
       " 'https://okm.ilogenbni.com/',\n",
       " 'http://jy4s.guso.hair',\n",
       " 'https://kkg.ilogensnb.com/',\n",
       " 'http://nnsrb.qrgbn.com',\n",
       " 'https://bit.ly/3JU87Kh',\n",
       " 'http://jxcku.qrgbn.com',\n",
       " 'https://gks.logessml.com/',\n",
       " 'http://hrec.wunrx.quest',\n",
       " 'https://c11.kr/1b5xo',\n",
       " 'http://hibmd.reagz.com',\n",
       " 'https://ksg.ilognoid.com/',\n",
       " 'http://8fdcs.ztos.hair',\n",
       " 'http://nvajv.qrgbn.com',\n",
       " 'http://etnyc.qngcb.com',\n",
       " 'https://kgm.ilognoid.com',\n",
       " 'http://dvznz.dvcho.com',\n",
       " 'https://gms.logessml.com/',\n",
       " 'http://hltfh.dvcho.com',\n",
       " 'http://plejs.qngcb.com',\n",
       " 'http://puebh.qrgbn.com',\n",
       " 'https://ksg.ilognoid.com',\n",
       " 'https://kkm.ilogenck.com/',\n",
       " 'http://bjgue.qngcb.com',\n",
       " 'http://vyosq.agdfv.com',\n",
       " 'http://jlmpi.dvcho.com',\n",
       " 'https://sm.ilognoism.com',\n",
       " 'http://klozu.lwor.beauty',\n",
       " 'https://me2.kr/gfNDz',\n",
       " 'https://iobe.t1ac.cyou',\n",
       " 'http://kocta.jpxc.hair',\n",
       " 'http://hrxv.eifxwz.live',\n",
       " 'http://phesr.qrgbn.com',\n",
       " 'https://gk.ilognoild.com',\n",
       " 'https://ksm.logenksn.co/',\n",
       " 'http://rfmlc.dvcho.com',\n",
       " 'http://t9y.me/fpSq',\n",
       " 'http://uicv.eiftx.asia',\n",
       " 'http://znux.xnowe.rocks',\n",
       " 'http://frx.einxh.asia',\n",
       " 'http://be.eiftx.asia',\n",
       " 'http://htesz.xnowe.rocks',\n",
       " 'https://jtsx.sentr.expert',\n",
       " 'http://frx.sentr.expert',\n",
       " 'http://fecv.akoi.expert',\n",
       " 'http://iop.golzw.loan',\n",
       " 'http://gdfev.wicuz.casa',\n",
       " 'https://bck.ilogsps.com/',\n",
       " 'https://bk.ilogekg.com',\n",
       " 'https://kks.logesmk.com/',\n",
       " 'https://dms.ilogsps.com',\n",
       " 'https://mk.logenkk.com/',\n",
       " 'https://ggk.ilogesi.com/',\n",
       " 'http://se.eiftx.asia',\n",
       " 'http://ktce.sentr.expert',\n",
       " 'http://fdcgr.akoi.expert',\n",
       " 'http://bioz.polz.beauty',\n",
       " 'http://ydcv.xnowe.rocks',\n",
       " 'http://bit.ly/3J4oOC5',\n",
       " 'http://sp.eiftx.asia',\n",
       " 'http://habtp.qngcb.com',\n",
       " 'http://lnmfg.qrgbn.com',\n",
       " 'http://oshih.ykqhd.com',\n",
       " 'http://ufcbsd.toms.social',\n",
       " 'http://einxi.uwnc.social',\n",
       " 'http://hoi.vixto.life',\n",
       " 'http://nomxe.noex.social',\n",
       " 'https://www.hjtxc.toms.social',\n",
       " 'https://www.dsmbo.uwnc.social',\n",
       " 'http://kjufv.cous.social',\n",
       " 'http://jyrxcv.uwnc.social',\n",
       " 'http://sssddfw.pwoi.skin',\n",
       " 'http://song1.gtaro.ink',\n",
       " 'http://hgtfcv.oshr.casa',\n",
       " 'http://jrdv.emvu.group',\n",
       " 'http://itcx.oienx.fyi',\n",
       " 'http://jtxcv.xnowe.rocks',\n",
       " 'http://twcnh.dvcho.com',\n",
       " 'http://cymkv.hgyam.com',\n",
       " 'https://skm.ilogenskk.com/',\n",
       " 'https://skk.ilogenvc.com',\n",
       " 'https://mks.ilogendkm.com/',\n",
       " 'https://kgm.ilogekgvm.com',\n",
       " 'https://km.ilogengs.com',\n",
       " 'https://hg.ilogengc.com/',\n",
       " 'https://bkm.ilogenvc.com/',\n",
       " 'https://kgm.ilogekgvm.com/',\n",
       " 'http://hdezx.toms.social',\n",
       " 'http://hlptg.dvcho.com',\n",
       " 'http://stoi2.vixto.life',\n",
       " 'http://kfdcv.noex.social',\n",
       " 'http://eolsr.qngcb.com',\n",
       " 'http://fjcyr.ykqhd.com',\n",
       " 'http://lipqn.dvcho.com',\n",
       " 'http://as02.j8yt.wtf',\n",
       " 'http://klidsc.oienx.fyi',\n",
       " 'http://tgscv.eiftx.asia',\n",
       " 'http://yfgd3.ponm3.hair',\n",
       " 'http://pgzfv.qngcb.com',\n",
       " 'https://kkm.ilogensm.com/',\n",
       " 'http://plvny.bhsav.com',\n",
       " 'https://iox.fnb4.media',\n",
       " 'https://bit.ly/3ESvbYb',\n",
       " 'http://s18.ify9.wtf',\n",
       " 'http://molzx.hoiz.rocks',\n",
       " 'http://jkyxc.emvu.group',\n",
       " 'http://jhfgv.cous.social',\n",
       " 'https://sk.ilogensmi.com/',\n",
       " 'https://ksm.techtarg.com/',\n",
       " 'https://kkb.techtarg.com/',\n",
       " 'https://bks.ilogsnsmi.com/',\n",
       " 'http://njlnn.dvcho.com',\n",
       " 'http://hogob.qrgbn.com',\n",
       " 'https://smk.logensm.com/',\n",
       " 'http://rztuu.dvcho.com',\n",
       " 'http://nrsc.eifot.in',\n",
       " 'http://gscwz.eifot.bio',\n",
       " 'http://n06.m9uy.wtf',\n",
       " 'http://v07.o3er.wtf',\n",
       " 'http://nb9.j8yt.wtf',\n",
       " 'http://ss2.p7tf.wtf',\n",
       " 'http://a13.z5dg.wtf',\n",
       " 'http://youtube.eifot.bio',\n",
       " 'https://nks.kshalfsmsik.com',\n",
       " 'https://kkm.ilogenodm.com',\n",
       " 'http://c02.m9uy.wtf',\n",
       " 'http://b04.mh5j.wtf',\n",
       " 'http://m04.m9uy.wtf',\n",
       " 'http://ss1.p7tf.wtf',\n",
       " 'http://ss1.o3er.wtf',\n",
       " 'http://c11.m9uy.wtf',\n",
       " 'http://cc12.p7tf.wtf',\n",
       " 'http://a15.z5dg.wtf',\n",
       " 'http://p021.p7tf.wtf',\n",
       " 'http://a06.z5dg.wtf',\n",
       " 'http://c05.m9uy.wtf',\n",
       " 'http://v11.o3er.wtf',\n",
       " 'https://funding.do/8L1H',\n",
       " 'http://xrcwy.qngcb.com',\n",
       " 'http://cujan.qrgbn.com',\n",
       " 'https://km.ilogensm.co',\n",
       " 'http://ss19.p7tf.wtf',\n",
       " 'https://bo.smsmak.com',\n",
       " 'http://eioe.eifot.in',\n",
       " 'https://skk.ilogensma.com',\n",
       " 'http://youtube.eifot.bio외',\n",
       " 'http://y34.m9hg.wtf',\n",
       " 'https://xbu.d9r3.media',\n",
       " 'http://trvccx.hsdrc.social',\n",
       " 'http://y21.x2rt.wtf',\n",
       " 'http://n01.m9uy.wtf',\n",
       " 'http://y79.v7th.wtf',\n",
       " 'http://ss3.p7tf.wtf',\n",
       " 'http://jtgv.sun8.hair',\n",
       " 'http://v02.o3er.wtf',\n",
       " 'https://ce.p5rp.media',\n",
       " 'https://nocvus.pousn.com',\n",
       " 'http://jtqlp.dvcho.com',\n",
       " 'https://smo.ilogensims.com/',\n",
       " 'https://skn.ilogenbi.com/',\n",
       " 'http://y18.x2rt.wtf',\n",
       " 'http://y72.v7th.wtf',\n",
       " 'http://s06.x2rt.wtf',\n",
       " 'http://y36.m9hg.wtf',\n",
       " 'https://bsm.halfsmsni.com',\n",
       " 'http://jyux.eifot.bio',\n",
       " 'http://hgfgd.soucv.casa',\n",
       " 'http://urecba.xybk.casa',\n",
       " 'http://hyfc.sun8.hair',\n",
       " 'http://jcves.onswe.fyi',\n",
       " 'http://pmsx.eifot.bio',\n",
       " 'http://tbupz.qngcb.com',\n",
       " 'http://twhmc.qngcb.com',\n",
       " 'http://pyhuz.dvcho.com',\n",
       " 'http://han.gl/ifBHE',\n",
       " 'http://pmxc.xnowe.rocks',\n",
       " 'http://zfrga.dvcho.com',\n",
       " 'http://akuka.qngcb.com',\n",
       " 'http://cc1.p7tf.wtf',\n",
       " 'http://hudcv.novt.casa',\n",
       " 'http://n08.m9uy.wtf',\n",
       " 'http://iku5.iadk.hair',\n",
       " 'http://fderdfv.svyw.hair',\n",
       " 'http://s08.x2rt.wtf',\n",
       " 'http://gios.polz.beauty',\n",
       " 'http://a05.z5dg.wtf',\n",
       " 'http://st01.bxg9.wtf',\n",
       " 'http://vbuos.qngcb.com',\n",
       " 'https://mgn.logesk.com/',\n",
       " 'http://nlpdn.iuqvn.com',\n",
       " 'http://mytuc.dvcho.com',\n",
       " 'https://c11.kr/1bxbw',\n",
       " 'http://pbqve.iuqvn.com',\n",
       " 'http://qazkx.dvcho.com',\n",
       " 'http://bit.ly/3Pjutql',\n",
       " 'https://oiane.xcp8.cyou',\n",
       " 'http://b11.je3m.wtf',\n",
       " 'http://ghjrx.zbcu.hair',\n",
       " 'http://an3.m9uy.wtf',\n",
       " 'http://ghe23.ponm3.hair',\n",
       " 'http://fjysw.dvcho.com',\n",
       " 'http://zhasq.iuqvn.com',\n",
       " 'https://c11.kr/1bzm7',\n",
       " 'https://c11.kr/1bzr2',\n",
       " 'http://dafjb.mtzpk.com',\n",
       " 'http://c11.kr/1bzr2',\n",
       " 'http://j6ys.wuv.gen.in',\n",
       " 'http://jydcbsx.oienx.fyi',\n",
       " 'http://jggtc.zvowu.art',\n",
       " 'http://n12.klp3.wtf',\n",
       " 'http://as09.j8yt.wtf',\n",
       " 'http://a01.x2rt.wtf',\n",
       " 'http://bit.ly/1E',\n",
       " 'http://wavhm.iuqvn.com',\n",
       " 'http://qcqoy.dvcho.com',\n",
       " 'http://tbijy.viibx.com',\n",
       " 'http://tbijy.viibx.com/',\n",
       " 'http://kkm.ilogeka.com/',\n",
       " 'https://han.gl/KzPRh',\n",
       " 'http://hgfr.nhu7.hair',\n",
       " 'http://bos.kshalfsmsik.com',\n",
       " 'http://bo.smsmak.com',\n",
       " 'http://kkm.ilogenciskn.com/',\n",
       " 'http://sm.ilognoism.com',\n",
       " 'http://bo.ilogenci.com/',\n",
       " 'http://htxv.emvu.group',\n",
       " 'http://kfewx.townr.kr',\n",
       " 'http://coia.fnb4.media',\n",
       " 'http://ccib.xopl.group',\n",
       " 'http://TRgf.ptks.hair',\n",
       " 'http://grjhj.nshi.miami',\n",
       " 'http://jgdcv.soucv.casa',\n",
       " 'http://vpbat.dvcho.com',\n",
       " 'http://xsxev.iuqvn.com',\n",
       " 'http://67q.hzxqv.com?vn2jfl',\n",
       " 'http://dxqyp.iuqvn.com',\n",
       " 'http://mmk.ilogenmd.com/',\n",
       " 'https://han.gl/WERpa',\n",
       " 'http://bsk.ilogenmib.com',\n",
       " 'https://buly.kr/4QgGRbp',\n",
       " 'https://c11.kr/1c26h',\n",
       " 'http://jkhex2.usoe.hair',\n",
       " 'http://jtsx.sentr.expert',\n",
       " 'http://zuwjj.dvcho.com',\n",
       " 'http://umxcv.qngcb.com',\n",
       " 'http://tkthg.qrgbn.com',\n",
       " 'http://gk.ilognoild.com',\n",
       " 'http://mkk.logensm.com/',\n",
       " 'http://n02.m9uy.wtf',\n",
       " 'http://n07.m8yt.wtf',\n",
       " 'http://hjffddc.pwoi.skin',\n",
       " 'http://rkkyj.dvcho.com',\n",
       " 'http://nkm.ilogencu.com',\n",
       " 'http://bkk.cjlogistsi.com',\n",
       " 'https://c11.kr/1c8qj',\n",
       " 'http://y04.b6vt.wtf',\n",
       " 'http://s01.k9uy.wtf',\n",
       " 'http://jzoyv.dvcho.com',\n",
       " 'http://dcvx.xvys.hair',\n",
       " 'http://c11.k9uy.wtf',\n",
       " 'http://m07.j5tv.wtf',\n",
       " 'http://by4.p3ev.wtf',\n",
       " 'http://by5.x7yu.wtf',\n",
       " 'http://npwec.dvcho.com',\n",
       " 'http://yrjul.qnggt.com',\n",
       " 'http://smi.ilogensim.com',\n",
       " 'http://msk.munjastor.com',\n",
       " 'http://kkn.cjlogistsi.com/',\n",
       " 'https://apply.do/AumG',\n",
       " 'http://siwz.eifot.bio',\n",
       " 'http://t2m.kr/z4FUB',\n",
       " 'http://by11.x7yu.wtf',\n",
       " 'http://kiufvc.toms.social',\n",
       " 'http://b01.d9op.wtf',\n",
       " 'http://y03.p7gf.wtf',\n",
       " 'http://sn5.s3rt.wtf',\n",
       " 'http://hpjjn.dvcho.com',\n",
       " 'http://kks.logesk.com/',\n",
       " 'http://skm.ilogenskk.com/',\n",
       " 'http://xe.pkux.cash',\n",
       " 'http://s03.m8yh.wtf',\n",
       " 'http://mb9.j5tv.wtf',\n",
       " 'http://a05.i9um.wtf',\n",
       " 'http://by12.x7yu.wtf',\n",
       " 'http://nb02.m8vf.wtf',\n",
       " 'http://ty4.a7mn.wtf',\n",
       " 'http://ipsr1.polz.beauty',\n",
       " 'http://uzjag.qngcb.com',\n",
       " 'http://bit.ly/42MEZgI',\n",
       " 'http://n12.wsc7.pet',\n",
       " 'http://v03.m8yh.wtf',\n",
       " 'http://c12.m9uy.wtf',\n",
       " 'http://a23.i9um.wtf',\n",
       " 'http://c04.k9uy.wtf',\n",
       " 'http://s09.k9uy.wtf',\n",
       " 'http://y03.h5gb.wtf',\n",
       " 'https://apply.do/jMpU',\n",
       " 'http://miay.c0xw.shop',\n",
       " 'http://nb01.m8vf.wtf',\n",
       " 'http://m02.e2gh.wtf',\n",
       " 'http://ggs.cjlogistsi.com',\n",
       " 'https://han.gl/ggbCBd',\n",
       " 'https://han.gl/IZLaLI',\n",
       " 'https://han.gl/oDdEIy',\n",
       " 'https://han.gl/pFxrHi',\n",
       " 'https://han.gl/mtMnus',\n",
       " 'http://n07.o5tw.wtf',\n",
       " 'http://n06.m8yt.wtf',\n",
       " 'http://v07.m8yh.wtf',\n",
       " 'http://s07.x7ft.black',\n",
       " 'http://c03.h5gb.wtf',\n",
       " 'http://jvzwg.iuqvn.com',\n",
       " 'http://sm.ilogenkk.com/',\n",
       " 'http://kdm.lguplusm.com',\n",
       " 'http://gk.ilogenkm.com/',\n",
       " 'http://c11.kr/1cav5',\n",
       " 'https://han.gl/doHOMb',\n",
       " 'https://han.gl/XVlJsg',\n",
       " 'http://8hgd.wunrx.quest',\n",
       " 'http://hjtccb.wuny.casa',\n",
       " 'http://kko.lguplusm.com',\n",
       " 'http://klhfbd.bous.group',\n",
       " 'http://sloiz.uisn.hair',\n",
       " 'http://hh.cjdmkskka.com',\n",
       " 'http://hnvgk.iuqvn.com',\n",
       " 'https://han.gl/cjMOgN',\n",
       " 'http://han.gl/CDZVyj',\n",
       " 'http://smk.logensm.com/',\n",
       " 'http://bkm.ilogenma.com',\n",
       " 'http://gms.logessml.com/',\n",
       " 'http://kk.cjlogistm.com',\n",
       " 'https://han.gl/SPBxrS',\n",
       " 'http://ymxif.wmeqw.com',\n",
       " 'https://han.gl/BjgVdz',\n",
       " 'http://ivsxc.ouce.site',\n",
       " 'http://rtdc.bous.group',\n",
       " 'http://sndm.spue.pub',\n",
       " 'http://korme.ndovw.fit',\n",
       " 'http://rvkoi.sxou.shop',\n",
       " 'https://han.gl/rqnYfK',\n",
       " 'http://scfnw.iuqvn.com',\n",
       " 'http://bfxv.ouce.site',\n",
       " 'https://han.gl/nsYgOY',\n",
       " 'https://bit.ly/3aAr2ME',\n",
       " 'http://mycvs.ndovw.fit',\n",
       " 'http://npstr.hsem.uno',\n",
       " 'https://ocx.kr/3h1xy',\n",
       " 'https://buly.kr/7bCJ3OT',\n",
       " 'https://apply.do/t7j9',\n",
       " 'https://han.gl/tUXBdQ',\n",
       " 'https://bit.ly/3zwPBDf',\n",
       " 'https://zrr.kr/T0MR',\n",
       " 'http://suzi.hsem.uno',\n",
       " 'http://korme.souw.info',\n",
       " 'http://hrtd3.guso.hair',\n",
       " 'http://ptwru.iuqvn.com',\n",
       " 'http://kko.iilogen.com',\n",
       " 'https://bit.ly/3ZEb7QX',\n",
       " 'https://c11.kr/1cmfo',\n",
       " 'https://c11.kr/1cnhj',\n",
       " 'https://c11.kr/1co8a',\n",
       " 'http://ndtuz.azio.social',\n",
       " 'https://apply.do/NceF',\n",
       " 'http://hjgdv.cobu.info',\n",
       " 'http://s05.k9uy.wtf',\n",
       " 'http://y65.m9hg.wtf',\n",
       " 'http://hffrcecx.nsox.hair',\n",
       " 'https://han.gl/tDntjR',\n",
       " 'http://rduoi.qngcb.com',\n",
       " 'http://nzqov.ykqhd.com',\n",
       " 'http://cios9.azio.social',\n",
       " 'https://han.gl/xKdqHd',\n",
       " 'http://87ccv.bous.group',\n",
       " 'http://kizdf.iuqvn.com',\n",
       " 'https://c11.kr/1cq2h',\n",
       " 'https://down.somaonyoga.com',\n",
       " 'https://vo.la/wwea8',\n",
       " 'https://360jc.dns316ff.fit/?c=olkVHM',\n",
       " 'https://c11.kr/1crzz',\n",
       " 'https://han.gl/kosaPP',\n",
       " 'https://down.jaiyoga.vip',\n",
       " 'https://han.gl/dKMaYE',\n",
       " 'https://c11.kr/1ctid',\n",
       " 'https://han.gl/EhZLV',\n",
       " 'https://han.gl/hURrry',\n",
       " 'http://m07.v3ef.wtf',\n",
       " 'http://y03.m3vt.wtf',\n",
       " 'http://b06.h7bv.wtf',\n",
       " 'http://x03.p8sy.wtf',\n",
       " 'http://t05.w6uo.wtf',\n",
       " 'http://y07.x9mn.wtf',\n",
       " 'http://n01.o9uh.wtf',\n",
       " 'http://fgddf.gzms.hair',\n",
       " 'http://m08.v3ef.wtf',\n",
       " 'http://y14.m3vt.wtf',\n",
       " 'https://me2.do/GEurtvKb',\n",
       " 'http://b07.h7bv.wtf',\n",
       " 'http://x01.p8sy.wtf',\n",
       " 'http://t04.w6uo.wtf',\n",
       " 'http://y04.x9mn.wtf',\n",
       " 'https://plush.link/Hx',\n",
       " 'https://donate.do/w6eF',\n",
       " 'https://me2.do/xoKhI7Oe',\n",
       " 'https://han.gl/nkmChX',\n",
       " 'https://han.gl/xpXGKo',\n",
       " 'https://c11.kr/1bv2w',\n",
       " 'https://tinyurl.com/ykx3qgfs',\n",
       " 'https://han.gl/mzEFkc',\n",
       " 'http://okm.ilogenbni.com/',\n",
       " 'http://mbk.ilogenmib.com',\n",
       " 'http://kso.lotteglogins.com/',\n",
       " 'https://me2.do/xfRQCY8p',\n",
       " 'https://me2.do/FU9SPC6r',\n",
       " 'https://c11.kr/1cuxg',\n",
       " 'http://n02.x2ty.wtf',\n",
       " 'https://me2.do/Gd1LNuN1',\n",
       " 'https://me2.do/Ftl20o34',\n",
       " 'http://c02.e8wq.wtf',\n",
       " 'http://on6.h8ik.wtf',\n",
       " 'http://dko.cjthemarop.com/siu7p0',\n",
       " 'http://nb03.e8wq.wtf',\n",
       " 'http://s04.x2rt.wtf',\n",
       " 'http://y09.e8wq.wtf',\n",
       " 'https://kuza.me/gLCD8',\n",
       " 'http://ut4f.oind.casa',\n",
       " 'http://aysog.qngcb.com',\n",
       " 'http://wqbsj.jurmw.com',\n",
       " 'http://sonc.kiozs.cool',\n",
       " 'http://m02.v3ef.wtf',\n",
       " 'http://n05.x2ty.wtf',\n",
       " 'http://on11.h8ik.wtf',\n",
       " 'https://me2.do/5VAd4tmy',\n",
       " 'http://y07.e8wq.wtf',\n",
       " 'http://m01.e8wq.wtf',\n",
       " 'https://c11.kr/1cuyq',\n",
       " 'https://c11.kr/1cxdk',\n",
       " 'https://c11.kr/1cyhz',\n",
       " 'https://c11.kr/1cxex',\n",
       " 'https://me2.do/GZjvSndn',\n",
       " 'https://kuza.me/Uydwo',\n",
       " 'http://x08.p8sy.wtf',\n",
       " 'http://KGFX.ndovw.fit',\n",
       " 'http://m06.m5yh.wtf',\n",
       " 'http://b14.h7bv.wtf',\n",
       " 'http://nb01.e8wq.wtf',\n",
       " 'http://msox.mkhq.co.kr',\n",
       " 'http://y11.m3vt.wtf',\n",
       " 'http://by3.w7ij.wtf',\n",
       " 'https://buly.kr/GviV0mp',\n",
       " 'https://me2.kr/dbqug',\n",
       " 'http://cy3.g3er.wtf',\n",
       " 'http://kjgdc.cobu.info',\n",
       " 'https://c11.kr/1bxak',\n",
       " 'http://ya4.z8ht.wtf',\n",
       " 'http://n03.x2ty.wtf',\n",
       " 'http://gfde2.onas2.hair',\n",
       " 'http://hexz.xmvl.info',\n",
       " 'http://on9.h8ik.wtf',\n",
       " 'http://on2.r5th.wtf',\n",
       " 'http://iufsw.bous.group',\n",
       " 'http://t02.w6uo.wtf',\n",
       " 'http://a02.z5dg.wtf',\n",
       " 'http://ny4.a9uh.wtf',\n",
       " 'http://ya11.p9uy.wtf',\n",
       " 'https://apply.do/w1vi',\n",
       " 'http://mxted.ndgsd.com',\n",
       " 'https://cutt.ly/xwMXV3L?lszziy',\n",
       " 'http://ksi.logenksn.co/',\n",
       " 'http://ski.halfsmu.com',\n",
       " 'http://mgk.ilogenkdon.com/',\n",
       " 'http://bxcxc.lmwe.press',\n",
       " 'https://c11.kr/1cxe0',\n",
       " 'https://c11.kr/1czwo',\n",
       " 'https://bit.ly/3MwJA12',\n",
       " 'http://hfe3.xnod.hair',\n",
       " 'https://buly.kr/1pkqLJ',\n",
       " 'http://kitcc.bous.group',\n",
       " 'https://me2.do/Fcgsb58E',\n",
       " 'http://zbnrj.yxcgx.com',\n",
       " 'https://c11.kr/1cz4t',\n",
       " 'https://c11.kr/1cz50',\n",
       " 'https://c11.kr/1cyy1',\n",
       " 'https://c11.kr/1d11l',\n",
       " 'https://han.gl/xLIREL',\n",
       " 'http://htf34.wovu4.hair',\n",
       " 'http://gffdds.svyw.hair',\n",
       " 'https://orl.kr/XjF',\n",
       " 'http://bit.ly/3rKC3iO',\n",
       " 'http://www.cjthedmmk.cn/ocwbor',\n",
       " 'http://pbbtk.dxtzc.com',\n",
       " 'http://fdafq.dvcho.com',\n",
       " 'https://c11.kr/1d132',\n",
       " 'https://bit.ly/3o7AC09',\n",
       " 'http://skk.ilogenck.com/',\n",
       " 'http://km.ilogensm.co',\n",
       " 'http://bmk.ilogenmd.com/',\n",
       " 'http://han.gl/xLIREL',\n",
       " 'https://orl.kr/YjF',\n",
       " 'http://c11.kr/1d132',\n",
       " 'http://ghfe.smrx.hair',\n",
       " 'http://iyuyfg3.sous.hair',\n",
       " 'http://t2m.kr/XVcCl',\n",
       " 'http://m05.v3ef.wtf',\n",
       " 'http://cy4.g3er.wtf',\n",
       " 'http://n09.x2ty.wtf',\n",
       " 'http://ny5.a9uh.wtf',\n",
       " 'http://y12.m3vt.wtf',\n",
       " 'http://ccx.cqp2.cash',\n",
       " 'http://asdvdfdfd.site',\n",
       " 'https://me2.do/GsOyF8hk',\n",
       " 'https://me2.do/5Zvb5ao3',\n",
       " 'https://me2.do/GaTSe6kp',\n",
       " 'https://ko.gl/cSXun',\n",
       " 'https://ko.gl/liXYc',\n",
       " 'https://buly.kr/ChkLjG9',\n",
       " 'http://b15.h7bv.wtf',\n",
       " 'https://han.gl/TeFfYX',\n",
       " 'https://c11.kr/1d2vr',\n",
       " 'http://ko.gl/cSXun',\n",
       " 'https://vo.la/KBY44',\n",
       " 'http://han.gl/TeFfYX',\n",
       " 'https://c11.kr/1d490',\n",
       " 'https://c11.kr/1d4dq',\n",
       " 'https://c11.kr/1d4gu',\n",
       " 'http://kkn.cjlogistsi.com',\n",
       " 'http://dasdqcsaca.store',\n",
       " 'https://c11.kr/1d553',\n",
       " 'https://c11.kr/1d52e',\n",
       " 'http://bcvsw.oshr.casa',\n",
       " 'http://nnia.v4tz.cash',\n",
       " 'http://k17.d5km.wtf',\n",
       " 'http://pbczf.nphbe.com',\n",
       " 'http://veodk.dvcho.com',\n",
       " 'http://bnszr.dvcho.com',\n",
       " 'http://dfgfhgfhfhg.online',\n",
       " 'https://ywrhz.ndgsd.com',\n",
       " 'http://nhisis.xyz',\n",
       " 'http://aaaa1.xcvdfgdfgdfg.store',\n",
       " 'http://nssnissshch.wiki',\n",
       " 'http://mashcgsd.bio',\n",
       " 'https://c11.kr/1d5q9',\n",
       " 'http://k08.g9of.wtf',\n",
       " 'http://x08.f3ed.wtf',\n",
       " 'http://cy17.h6yu.wtf',\n",
       " 'http://y05.o3pr.wtf',\n",
       " 'https://c11.kr/1d5pl',\n",
       " 'https://c11.kr/1d5qh',\n",
       " 'http://in08.d5km.wtf',\n",
       " 'http://k13.g9of.wtf',\n",
       " 'http://y07.o3pr.wtf',\n",
       " 'http://t03.m5yh.wtf',\n",
       " 'http://cy08.p7df.wtf',\n",
       " 'http://cy21.h6yu.wtf',\n",
       " 'http://aaa1.xcvdfgdfgdfg.store',\n",
       " 'http://tinyurl.com/yjvzajud',\n",
       " 'https://c11.kr/1d618',\n",
       " 'https://c11.kr/1d535',\n",
       " 'http://ar.dfgfhgfhfhg.site',\n",
       " 'http://ssd6.sdfdfhbfghgf.store',\n",
       " 'http://dkk.martsbn.top',\n",
       " 'http://ay.dfgfhgfhfhg.site',\n",
       " 'http://m25.d5km.wtf',\n",
       " 'http://sdfdfhbfghgf.store',\n",
       " 'http://sdfdfhbfghgf.site',\n",
       " 'http://v05.f3ed.wtf',\n",
       " 'http://r04.a9ij.wtf',\n",
       " 'http://a08.g9of.wtf',\n",
       " 'http://nis.oind.casa',\n",
       " 'http://jtcwx.xmvl.info',\n",
       " 'http://m14.xx2n.black',\n",
       " 'http://dfgfhgfhfhg.site/',\n",
       " 'http://dkk.martsbn.top/',\n",
       " 'http://www.martsbg.top',\n",
       " 'http://jnsnp.qngcb.com',\n",
       " 'http://zeqgz.dxtzc.com',\n",
       " 'http://rmlcb.ggmhd.com',\n",
       " 'http://am.dfgfhgfhfhg.site',\n",
       " 'http://aa.sdfdfhbfghgf.store',\n",
       " 'https://c11.kr/1d6lv',\n",
       " 'http://orl.kr/VkF',\n",
       " 'http://bit.ly/3KDqu6V',\n",
       " 'https://c11.kr/1d6ir',\n",
       " 'http://s11.d5km.wtf',\n",
       " 'http://aaa3.xcvdfgdfgdfg.store',\n",
       " 'http://cb05.f8ud.wtf',\n",
       " 'http://an16.a5gh.wtf',\n",
       " 'http://iy04.a9ij.wtf',\n",
       " 'https://t.ly/B61T',\n",
       " 'http://k05.g9of.wtf',\n",
       " 'http://iy06.t7df.wtf',\n",
       " 'https://c11.kr/1cygz',\n",
       " 'http://jsja.tughv.com',\n",
       " 'http://zfoio.dvcho.com',\n",
       " 'http://lqjzw.qngcb.com',\n",
       " 'https://me2.kr/teMii.',\n",
       " 'https://bit.ly/3MzhNx4',\n",
       " 'http://afgt12.xcvdfgdfgdfg.store/',\n",
       " 'http://wjylb.ogdsp.com',\n",
       " 'http://xb05.h9ts.wtf',\n",
       " 'http://lj.xcvdfgdfgdfg.site/',\n",
       " 'http://iy02.b6yh.wtf',\n",
       " 'http://in08.a9ij.wtf',\n",
       " 'http://dfgfhgfhfhg.site',\n",
       " 'http://cy22.h6yu.wtf',\n",
       " 'http://cx18.e2kp.wtf',\n",
       " 'http://cx02.i5ms.wtf',\n",
       " 'http://c07.o3pr.wtf',\n",
       " 'http://ax04.k7yg.wtf',\n",
       " 'http://ac.dfgfhgfhfhg.site',\n",
       " 'https://han.gl/uGuckQ',\n",
       " 'http://thhjr.cgutp.com',\n",
       " 'http://fsxcu.qngcb.com',\n",
       " 'http://avvex.ogdsp.com',\n",
       " 'http://nkm.gartsbg.top',\n",
       " 'http://c11.kr/1dbi5',\n",
       " 'http://jyfcgt.dasdqcsaca.store/',\n",
       " 'http://kmygm.ogdsp.com',\n",
       " 'http://tbkxl.cgutp.com',\n",
       " 'http://gwdmo.ogdsp.com',\n",
       " 'https://c11.kr/1dcvk',\n",
       " 'http://ggm.ifnetkg.xyz',\n",
       " 'http://ag.dfgfhgfhfhg.site',\n",
       " 'http://cy2.g3er.wtf',\n",
       " 'http://c05.o5tw.wtf',\n",
       " 'http://jyfve.nskf.fyi',\n",
       " 'http://xcvdfgdfgdfg.site',\n",
       " 'http://by12.b6yh.wtf',\n",
       " 'https://kuza.me/rgvTZ',\n",
       " 'https://c11.kr/1d639',\n",
       " 'https://han.gl/USNeW',\n",
       " 'http://dokdo.in/QNj',\n",
       " 'http://dokdo.in/y8B',\n",
       " 'http://xxxqq.cgutp.com',\n",
       " 'http://hszko.dvcho.com',\n",
       " 'http://muzgd.ogdsp.com',\n",
       " 'http://qqqwh.ndgsd.com',\n",
       " 'https://c11.kr/1dbzm',\n",
       " 'https://c11.kr/1dbzp',\n",
       " 'https://c11.kr/1dc0e',\n",
       " 'https://c11.kr/1dc2h',\n",
       " 'https://buly.kr/2fZ9AJE',\n",
       " 'http://plori.ykqhd.com',\n",
       " 'http://c11.kr/1dcvk',\n",
       " 'http://dokdo.in/Jc6',\n",
       " 'http://dokdo.in/svy',\n",
       " 'http://dokdo.in/auw',\n",
       " 'http://dokdo.in/kBr',\n",
       " 'http://dokdo.in/4uG',\n",
       " 'http://qkhmc.ogdsp.com',\n",
       " 'https://bit.ly/3zvi1h2',\n",
       " 'http://yshfd.townr.kr',\n",
       " 'http://a13.i9um.wtf',\n",
       " 'http://htovo.cpwey.com',\n",
       " 'http://mhkvt.wwbgh.com',\n",
       " 'http://uaxtj.ogdsp.com',\n",
       " 'http://vbuhl.cgutp.com',\n",
       " 'http://qkyho.cpwey.com',\n",
       " 'http://ijtmv.cgutp.com',\n",
       " 'http://zuio9.modt.bio',\n",
       " 'http://m24.d5km.wtf',\n",
       " 'http://cb14.x0kg.wtf',\n",
       " 'http://ad.dfgfhgfhfhg.site',\n",
       " 'https://c11.kr/1d61y',\n",
       " 'https://c11.kr/1ei4',\n",
       " 'http://zunan.cgutp.com',\n",
       " 'http://mks.ilogendkm.com/',\n",
       " 'http://nhisis.xyz/',\n",
       " 'http://nshdyxsadd.shop',\n",
       " 'http://nssnissshch.life',\n",
       " 'http://y13.c3ed.wtf',\n",
       " 'http://jds3s.hdie.agency',\n",
       " 'http://xcvdfgdfgdfg.store',\n",
       " 'http://nshdyxsadd.world',\n",
       " 'http://r02.h2wq.wtf',\n",
       " 'https://kuza.me/zzjBK',\n",
       " 'http://poli1.modt.bio',\n",
       " 'http://lpomlo.modt.bio',\n",
       " 'http://vpzie.qngcb.com',\n",
       " 'http://gs.ilogenci.com/',\n",
       " 'https://ss.skmmd.top',\n",
       " 'https://c11.kr/1dht4',\n",
       " 'https://han.gl/CKlOau',\n",
       " 'https://dokdo.in/m23',\n",
       " 'http://n06.b8td.wtf',\n",
       " 'http://mashcgsd.us',\n",
       " 'https://c11.kr/1digc',\n",
       " 'https://c11.kr/1digo',\n",
       " 'http://gs25s.uisn.hair',\n",
       " 'http://jtvx.kndo.miami',\n",
       " 'http://yqfzi.ogdsp.com',\n",
       " 'http://kmksn.ogdsp.com',\n",
       " 'https://c11.kr/1dijc',\n",
       " 'http://gs.sjdww.top',\n",
       " 'https://c11.kr/1dhvt',\n",
       " 'https://c11.kr/1dk8s',\n",
       " 'http://nshdyxsadd.ink',\n",
       " 'http://v07.e5vb.wtf',\n",
       " 'http://m07.d5km.wtf',\n",
       " 'http://m02.c7oe.wtf',\n",
       " 'http://nc.gk0q.site',\n",
       " 'http://iom.fnb4.media',\n",
       " 'http://xy16.k2iu.wtf',\n",
       " 'http://xbc.tmpw.press',\n",
       " 'http://iy07.a9ij.wtf',\n",
       " 'https://url.vet/rkz0k',\n",
       " 'http://m03.b2ty.wtf',\n",
       " 'http://x01.j1we.wtf',\n",
       " 'http://xn07.p7yx.wtf',\n",
       " 'http://iy26.n9wd.wtf',\n",
       " 'http://mytok.cpwey.com',\n",
       " 'https://c11.kr/1dihj',\n",
       " 'https://c11.kr/1dgrd',\n",
       " 'http://kdo.lotteglogisk.com',\n",
       " 'http://c11.kr/',\n",
       " 'https://han.gl/CUfWk',\n",
       " 'http://cvb.cjthemokmdd.top',\n",
       " 'https://han.gl/HKCPx',\n",
       " 'https://c11.kr/1dlb1',\n",
       " 'http://buly.kr/6Mn97ch',\n",
       " 'http://km.bmunjalio.top',\n",
       " 'https://buly.kr/2UeTYg3',\n",
       " 'http://jrxc.hnu5.hair',\n",
       " 'http://iy02.t7df.wtf',\n",
       " 'http://ix05.s4ef.wtf',\n",
       " 'http://v13.e5vb.wtf',\n",
       " 'http://y11.o3pr.wtf',\n",
       " 'http://cb09.x0kg.wtf',\n",
       " 'http://in01.m3vt.wtf',\n",
       " 'http://ca23.j3tz.wtf',\n",
       " 'http://iy08.n9wd.wtf',\n",
       " 'http://an01.a5gh.wtf',\n",
       " 'http://r08.a9ij.wtf',\n",
       " 'http://cb02.w1gk.wtf',\n",
       " 'http://x02.p8sy.wtf',\n",
       " 'http://c03.u3op.wtf',\n",
       " 'http://p08.f4rf.wtf',\n",
       " 'http://c16.k1yn.wtf',\n",
       " 'http://cy07.v2sd.wtf',\n",
       " 'http://by13.r5og.wtf',\n",
       " 'http://in04.o8hc.wtf',\n",
       " 'http://s01.d4nm.wtf',\n",
       " 'http://s05.g3ed.wtf',\n",
       " 'http://by01.d6uh.wtf',\n",
       " 'https://me2.do/G4Lp4jl8',\n",
       " 'https://c11.kr/1d9nn',\n",
       " 'http://dkmqq.dvcho.com',\n",
       " 'http://dzkym.cgutp.com',\n",
       " 'https://c11.kr/1dlie',\n",
       " 'http://km.bmunjalio.top/',\n",
       " 'https://bit.ly/3LvJ56n',\n",
       " 'https://bit.ly/41LDeji',\n",
       " 'http://v02.f3ed.wtf',\n",
       " 'http://v01.e5vb.wtf',\n",
       " 'http://kj.xcvdfgdfgdfg.site',\n",
       " 'http://biot.b3wy.site',\n",
       " 'https://vo.la/XxEFU',\n",
       " 'https://c11.kr/1d9o5',\n",
       " 'http://bit.ly/CJ',\n",
       " 'http://ggk.ilogesi.com/',\n",
       " 'https://me2.do/5VAd4WsY',\n",
       " 'http://hfvex.coes.life',\n",
       " 'http://n01.a1kg.wtf',\n",
       " 'https://orl.kr/woF',\n",
       " 'https://orl.kr/noF',\n",
       " 'http://xn04.m1kg.wtf',\n",
       " 'http://x21.g7on.wtf',\n",
       " 'http://xy01.h8qs.wtf',\n",
       " 'http://sn02.i9ch.wtf',\n",
       " 'http://sn15.k0fp.wtf',\n",
       " 'http://cs34.q5kv.wtf',\n",
       " 'http://cs03.p4tf.wtf',\n",
       " 'http://ca11.o3pe.wtf',\n",
       " 'http://ca01.n2yd.wtf',\n",
       " 'http://nb07.r6df.wtf',\n",
       " 'http://zn04.s7ou.wtf',\n",
       " 'http://at01.u9nc.wtf',\n",
       " 'http://przdk.cgutp.com',\n",
       " 'http://x07.j1we.wtf',\n",
       " 'https://orl.kr/eoF',\n",
       " 'http://bit.ly/3JOenU1',\n",
       " 'https://han.gl/oopCH',\n",
       " 'https://c11.kr/1dp4a',\n",
       " 'http://si09.d4th.wtf',\n",
       " 'http://suym.voxeky.com',\n",
       " 'https://orl.kr/goF',\n",
       " 'http://cb04.w1gk.wtf',\n",
       " 'http://go.communis.top/',\n",
       " 'https://orl.kr/moF',\n",
       " 'https://han.gl/acFYy',\n",
       " 'http://n05.a1kg.wtf',\n",
       " 'http://n09.a1kg.wtf',\n",
       " 'http://in06.e5bx.wtf',\n",
       " 'http://in22.f4rg.wtf',\n",
       " 'http://in08.g7on.wtf',\n",
       " 'http://xy15.i9ch.wtf',\n",
       " 'http://xy04.h8qs.wtf',\n",
       " 'http://nnox.je0q.worLd',\n",
       " 'http://sn17.f6tg.wtf',\n",
       " 'http://xy06.h8qs.wtf',\n",
       " 'http://x23.g7on.wtf',\n",
       " 'http://xy09.i9ch.wtf',\n",
       " 'http://sn18.k0fp.wtf',\n",
       " 'http://xn07.m1kg.wtf',\n",
       " 'http://xn13.m1kg.wtf',\n",
       " 'http://cs28.q5kv.wtf',\n",
       " 'http://cs09.p4tf.wtf',\n",
       " 'http://ca08.o3pe.wtf',\n",
       " 'http://m14.d5km.wtf',\n",
       " 'http://cs32.q5kv.wtf',\n",
       " 'http://ca19.o3pe.wtf',\n",
       " 'http://nb01.r6df.wtf',\n",
       " 'http://zn06.s7ou.wtf',\n",
       " 'http://c08.u3op.wtf',\n",
       " 'http://vtyph.mtzpk.com',\n",
       " 'https://vo.la/pwZTi',\n",
       " 'https://han.gl/xAPdOD',\n",
       " 'http://zn17.s7ou.wtf',\n",
       " 'http://nb17.r6df.wtf',\n",
       " 'http://ti02.u9nc.wtf',\n",
       " 'http://han.gl/xAPdOD',\n",
       " 'http://t2m.kr/rY3AO',\n",
       " 'http://tinyurl.com/y7n5fb5z',\n",
       " 'http://y08.d6ts.wtf',\n",
       " 'https://han.gl/QMWykU',\n",
       " 'http://aktye.mkecs.kr',\n",
       " 'http://cs17.q5kv.wtf',\n",
       " 'http://zn15.s7ou.wtf',\n",
       " 'http://iy02.a9ij.wtf',\n",
       " 'http://sn18.f6tg.wtf',\n",
       " 'http://xn02.m1kg.wtf',\n",
       " 'http://ca07.o3pe.wtf',\n",
       " 'http://cs07.p4tf.wtf',\n",
       " 'http://at02.u9nc.wtf',\n",
       " 'http://in17.f4rg.wtf',\n",
       " 'http://in03.g7on.wtf',\n",
       " 'http://xy12.i9ch.wtf',\n",
       " 'http://ca03.n2yd.wtf',\n",
       " 'http://n19.a1uf.wtf',\n",
       " 'http://si05.d4th.wtf',\n",
       " 'http://v19.m0up.wtf',\n",
       " 'http://x11.p8sy.wtf',\n",
       " 'http://gixse.gixzt.wtf',\n",
       " 'https://me2.do/5LoipUrB',\n",
       " 'https://orl.kr/XoF',\n",
       " 'http://www.cjmaling.cn/',\n",
       " 'http://buly.kr/7bCS8gl',\n",
       " 'http://kkg.ksmartsi.com/',\n",
       " 'http://kso.ilogenks.com/',\n",
       " 'http://ca17.o3pe.wtf',\n",
       " 'http://zn22.s7ou.wtf',\n",
       " 'http://sn03.i9ch.wtf',\n",
       " 'http://xy08.h8qs.wtf',\n",
       " 'http://ca05.n2yd.wtf',\n",
       " 'http://nb15.r6df.wtf',\n",
       " 'http://bnfwx.cgutp.com',\n",
       " 'http://mkk.ksmartsi.com/',\n",
       " 'https://orl.kr/BpF',\n",
       " 'https://orl.kr/DpF',\n",
       " ...]"
      ]
     },
     "execution_count": 25,
     "metadata": {},
     "output_type": "execute_result"
    }
   ],
   "source": [
    "processed_urls[10:]"
   ]
  },
  {
   "cell_type": "code",
   "execution_count": 26,
   "id": "17b2eaf7",
   "metadata": {},
   "outputs": [
    {
     "data": {
      "text/plain": [
       "3537954"
      ]
     },
     "execution_count": 26,
     "metadata": {},
     "output_type": "execute_result"
    }
   ],
   "source": [
    "len(all_url)"
   ]
  },
  {
   "cell_type": "code",
   "execution_count": 27,
   "id": "bd237e24",
   "metadata": {},
   "outputs": [
    {
     "data": {
      "text/plain": [
       "3537954"
      ]
     },
     "execution_count": 27,
     "metadata": {},
     "output_type": "execute_result"
    }
   ],
   "source": [
    "len(processed_urls)"
   ]
  },
  {
   "cell_type": "code",
   "execution_count": null,
   "id": "63c5bdd4",
   "metadata": {},
   "outputs": [
    {
     "data": {
      "application/vnd.jupyter.widget-view+json": {
       "model_id": "8e0dcbd40b934770bff1eaa61ddf8564",
       "version_major": 2,
       "version_minor": 0
      },
      "text/plain": [
       "  0%|          | 0/109378 [00:00<?, ?it/s]"
      ]
     },
     "metadata": {},
     "output_type": "display_data"
    }
   ],
   "source": [
    "import requests\n",
    "from tqdm.auto import tqdm\n",
    "\n",
    "checked_urls = pd.read_csv('C:/Users/user/Desktop/url_data/checked_urls.csv')\n",
    "\n",
    "collected_html = []\n",
    "\n",
    "for url in tqdm(checked_urls['url']):\n",
    "    \n",
    "    try:\n",
    "        res = requests.get(url, timeout=10)\n",
    "        html_source = res.text\n",
    "        \n",
    "    except Exception as e:\n",
    "        html_source = f\"Error: {e}\"\n",
    "        # 저장 안하고 넘어가려면 pass?\n",
    "    collected_html.append({'url': url, 'url_source': html_source})\n",
    "\n",
    "df = pd.DataFrame(collected_html)\n",
    "df.to_csv('collected_html_source.csv', index=True)\n",
    "\n",
    "# 인호형 고쳐준 부분 : checked urls → checked_urls['url'] 컬럼 지정 (DataFrame)\n",
    "# response 잘못 적은거 res로 바꿔주심"
   ]
  }
 ],
 "metadata": {
  "kernelspec": {
   "display_name": "goat",
   "language": "python",
   "name": "python3"
  },
  "language_info": {
   "codemirror_mode": {
    "name": "ipython",
    "version": 3
   },
   "file_extension": ".py",
   "mimetype": "text/x-python",
   "name": "python",
   "nbconvert_exporter": "python",
   "pygments_lexer": "ipython3",
   "version": "3.9.21"
  }
 },
 "nbformat": 4,
 "nbformat_minor": 5
}
